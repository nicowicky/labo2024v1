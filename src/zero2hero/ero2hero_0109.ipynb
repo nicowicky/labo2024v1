{
 "cells": [
  {
   "attachments": {},
   "cell_type": "markdown",
   "metadata": {},
   "source": [
    "# Zero to Hero"
   ]
  },
  {
   "attachments": {},
   "cell_type": "markdown",
   "metadata": {},
   "source": [
    "## 1.09 Dividir en Training y Testing\n",
    "## version libreria caret"
   ]
  },
  {
   "attachments": {},
   "cell_type": "markdown",
   "metadata": {},
   "source": [
    "El objetivo es hacer una division del dataset en training/testing que sea estratificada en la clase\n",
    "<br>\n",
    "https://es.wikipedia.org/wiki/Muestreo_estratificado"
   ]
  },
  {
   "cell_type": "code",
   "execution_count": 2,
   "metadata": {
    "tags": [],
    "vscode": {
     "languageId": "r"
    }
   },
   "outputs": [
    {
     "data": {
      "text/html": [
       "<table>\n",
       "<thead><tr><th></th><th scope=col>used</th><th scope=col>(Mb)</th><th scope=col>gc trigger</th><th scope=col>(Mb)</th><th scope=col>max used</th><th scope=col>(Mb)</th></tr></thead>\n",
       "<tbody>\n",
       "\t<tr><th scope=row>Ncells</th><td> 543335</td><td>29.1   </td><td>1140450</td><td>61     </td><td>1140450</td><td>61.0   </td></tr>\n",
       "\t<tr><th scope=row>Vcells</th><td>1001492</td><td> 7.7   </td><td>8388608</td><td>64     </td><td>1601936</td><td>12.3   </td></tr>\n",
       "</tbody>\n",
       "</table>\n"
      ],
      "text/latex": [
       "\\begin{tabular}{r|llllll}\n",
       "  & used & (Mb) & gc trigger & (Mb) & max used & (Mb)\\\\\n",
       "\\hline\n",
       "\tNcells &  543335 & 29.1    & 1140450 & 61      & 1140450 & 61.0   \\\\\n",
       "\tVcells & 1001492 &  7.7    & 8388608 & 64      & 1601936 & 12.3   \\\\\n",
       "\\end{tabular}\n"
      ],
      "text/markdown": [
       "\n",
       "| <!--/--> | used | (Mb) | gc trigger | (Mb) | max used | (Mb) |\n",
       "|---|---|---|---|---|---|---|\n",
       "| Ncells |  543335 | 29.1    | 1140450 | 61      | 1140450 | 61.0    |\n",
       "| Vcells | 1001492 |  7.7    | 8388608 | 64      | 1601936 | 12.3    |\n",
       "\n"
      ],
      "text/plain": [
       "       used    (Mb) gc trigger (Mb) max used (Mb)\n",
       "Ncells  543335 29.1 1140450    61   1140450  61.0\n",
       "Vcells 1001492  7.7 8388608    64   1601936  12.3"
      ]
     },
     "metadata": {},
     "output_type": "display_data"
    }
   ],
   "source": [
    "rm(list = ls())\n",
    "gc()\n",
    "\n",
    "library(\"data.table\") # cargo la libreria  data.table\n",
    "library(\"rpart\") # cargo la libreria  rpart\n",
    "library(\"rpart.plot\")\n",
    "\n",
    "options(repr.plot.width = 20, repr.plot.height = 10)\n",
    "# setwd(\"~/buckets/b1/\")\n"
   ]
  },
  {
   "cell_type": "code",
   "execution_count": 3,
   "metadata": {
    "tags": [],
    "vscode": {
     "languageId": "r"
    }
   },
   "outputs": [],
   "source": [
    "setwd(\"D:\\\\MAESTRIA AUSTRAL DATA SCIENCE\\\\MATERIAS\\\\2doSem\\\\Laboratorio 1\\\\datasets\") # Establezco el Working Directory\n",
    "# cargo el dataset\n",
    "dataset <- fread(\"dataset_pequeno.csv\")\n",
    "djulio <- dataset[foto_mes == 202107]\n"
   ]
  },
  {
   "cell_type": "code",
   "execution_count": 4,
   "metadata": {
    "tags": [],
    "vscode": {
     "languageId": "r"
    }
   },
   "outputs": [
    {
     "name": "stderr",
     "output_type": "stream",
     "text": [
      "Loading required package: lattice\n",
      "Loading required package: ggplot2\n",
      "Registered S3 methods overwritten by 'ggplot2':\n",
      "  method         from \n",
      "  [.quosures     rlang\n",
      "  c.quosures     rlang\n",
      "  print.quosures rlang\n"
     ]
    }
   ],
   "source": [
    "library(\"caret\")\n"
   ]
  },
  {
   "attachments": {},
   "cell_type": "markdown",
   "metadata": {},
   "source": [
    "https://www.rdocumentation.org/packages/caret/versions/6.0-88/topics/createDataPartition\n",
    "<br>\n",
    "la funcion  **createDataPartition** devolverá un vector de posiciones, las que cumplen con la particion indicada\n",
    "<br>\n",
    "*p= 0.5* significa que queremos el 50% de los registros\n",
    "<br>\n",
    "*dataset$clase_ternaria*   es el vector con la clase ternaria, que es por donde se estratificará\n",
    "<br>"
   ]
  },
  {
   "cell_type": "code",
   "execution_count": 5,
   "metadata": {
    "tags": [],
    "vscode": {
     "languageId": "r"
    }
   },
   "outputs": [],
   "source": [
    "train_rows <- createDataPartition(djulio$clase_ternaria, p = 0.50, list = FALSE)\n"
   ]
  },
  {
   "attachments": {},
   "cell_type": "markdown",
   "metadata": {},
   "source": [
    "veamos que ha quedado en  los primeros registros del vector **train_rows**"
   ]
  },
  {
   "cell_type": "code",
   "execution_count": 6,
   "metadata": {
    "tags": [],
    "vscode": {
     "languageId": "r"
    }
   },
   "outputs": [
    {
     "data": {
      "text/html": [
       "<table>\n",
       "<thead><tr><th scope=col>Resample1</th></tr></thead>\n",
       "<tbody>\n",
       "\t<tr><td> 1</td></tr>\n",
       "\t<tr><td> 5</td></tr>\n",
       "\t<tr><td> 7</td></tr>\n",
       "\t<tr><td> 8</td></tr>\n",
       "\t<tr><td> 9</td></tr>\n",
       "\t<tr><td>10</td></tr>\n",
       "</tbody>\n",
       "</table>\n"
      ],
      "text/latex": [
       "\\begin{tabular}{l}\n",
       " Resample1\\\\\n",
       "\\hline\n",
       "\t  1\\\\\n",
       "\t  5\\\\\n",
       "\t  7\\\\\n",
       "\t  8\\\\\n",
       "\t  9\\\\\n",
       "\t 10\\\\\n",
       "\\end{tabular}\n"
      ],
      "text/markdown": [
       "\n",
       "| Resample1 |\n",
       "|---|\n",
       "|  1 |\n",
       "|  5 |\n",
       "|  7 |\n",
       "|  8 |\n",
       "|  9 |\n",
       "| 10 |\n",
       "\n"
      ],
      "text/plain": [
       "     Resample1\n",
       "[1,]  1       \n",
       "[2,]  5       \n",
       "[3,]  7       \n",
       "[4,]  8       \n",
       "[5,]  9       \n",
       "[6,] 10       "
      ]
     },
     "metadata": {},
     "output_type": "display_data"
    }
   ],
   "source": [
    "head(train_rows)\n"
   ]
  },
  {
   "attachments": {},
   "cell_type": "markdown",
   "metadata": {},
   "source": [
    "Aqui ya vemos que la particion tiene un suconjunto de los registros"
   ]
  },
  {
   "attachments": {},
   "cell_type": "markdown",
   "metadata": {},
   "source": [
    "ahora creamos los datasets de training y testing"
   ]
  },
  {
   "cell_type": "code",
   "execution_count": 7,
   "metadata": {
    "tags": [],
    "vscode": {
     "languageId": "r"
    }
   },
   "outputs": [],
   "source": [
    "dtrain <- djulio[train_rows]\n"
   ]
  },
  {
   "attachments": {},
   "cell_type": "markdown",
   "metadata": {},
   "source": [
    "-train_rows  significa el complemento  (no confundir con numeros negativos)"
   ]
  },
  {
   "cell_type": "code",
   "execution_count": 8,
   "metadata": {
    "tags": [],
    "vscode": {
     "languageId": "r"
    }
   },
   "outputs": [],
   "source": [
    "dtest <- djulio[-train_rows]\n"
   ]
  },
  {
   "attachments": {},
   "cell_type": "markdown",
   "metadata": {},
   "source": [
    "Compruebo la division"
   ]
  },
  {
   "cell_type": "code",
   "execution_count": 9,
   "metadata": {
    "tags": [],
    "vscode": {
     "languageId": "r"
    }
   },
   "outputs": [
    {
     "data": {
      "text/html": [
       "82299"
      ],
      "text/latex": [
       "82299"
      ],
      "text/markdown": [
       "82299"
      ],
      "text/plain": [
       "[1] 82299"
      ]
     },
     "metadata": {},
     "output_type": "display_data"
    },
    {
     "data": {
      "text/html": [
       "82297"
      ],
      "text/latex": [
       "82297"
      ],
      "text/markdown": [
       "82297"
      ],
      "text/plain": [
       "[1] 82297"
      ]
     },
     "metadata": {},
     "output_type": "display_data"
    },
    {
     "data": {
      "text/html": [
       "164596"
      ],
      "text/latex": [
       "164596"
      ],
      "text/markdown": [
       "164596"
      ],
      "text/plain": [
       "[1] 164596"
      ]
     },
     "metadata": {},
     "output_type": "display_data"
    },
    {
     "data": {
      "text/html": [
       "164596"
      ],
      "text/latex": [
       "164596"
      ],
      "text/markdown": [
       "164596"
      ],
      "text/plain": [
       "[1] 164596"
      ]
     },
     "metadata": {},
     "output_type": "display_data"
    }
   ],
   "source": [
    "nrow(dtrain)\n",
    "nrow(dtest)\n",
    "nrow(dtrain) + nrow(dtest)\n",
    "nrow(djulio)\n"
   ]
  },
  {
   "attachments": {},
   "cell_type": "markdown",
   "metadata": {},
   "source": [
    "Compruebo que la particion es estratificada"
   ]
  },
  {
   "cell_type": "code",
   "execution_count": 10,
   "metadata": {
    "tags": [],
    "vscode": {
     "languageId": "r"
    }
   },
   "outputs": [
    {
     "data": {
      "text/html": [
       "<table>\n",
       "<thead><tr><th scope=col>clase_ternaria</th><th scope=col>N</th></tr></thead>\n",
       "<tbody>\n",
       "\t<tr><td>CONTINUA</td><td>162211  </td></tr>\n",
       "\t<tr><td>BAJA+1  </td><td>  1137  </td></tr>\n",
       "\t<tr><td>BAJA+2  </td><td>  1248  </td></tr>\n",
       "</tbody>\n",
       "</table>\n"
      ],
      "text/latex": [
       "\\begin{tabular}{r|ll}\n",
       " clase\\_ternaria & N\\\\\n",
       "\\hline\n",
       "\t CONTINUA & 162211  \\\\\n",
       "\t BAJA+1   &   1137  \\\\\n",
       "\t BAJA+2   &   1248  \\\\\n",
       "\\end{tabular}\n"
      ],
      "text/markdown": [
       "\n",
       "| clase_ternaria | N |\n",
       "|---|---|\n",
       "| CONTINUA | 162211   |\n",
       "| BAJA+1   |   1137   |\n",
       "| BAJA+2   |   1248   |\n",
       "\n"
      ],
      "text/plain": [
       "  clase_ternaria N     \n",
       "1 CONTINUA       162211\n",
       "2 BAJA+1           1137\n",
       "3 BAJA+2           1248"
      ]
     },
     "metadata": {},
     "output_type": "display_data"
    },
    {
     "data": {
      "text/html": [
       "<table>\n",
       "<thead><tr><th scope=col>clase_ternaria</th><th scope=col>N</th></tr></thead>\n",
       "<tbody>\n",
       "\t<tr><td>CONTINUA</td><td>81106   </td></tr>\n",
       "\t<tr><td>BAJA+1  </td><td>  569   </td></tr>\n",
       "\t<tr><td>BAJA+2  </td><td>  624   </td></tr>\n",
       "</tbody>\n",
       "</table>\n"
      ],
      "text/latex": [
       "\\begin{tabular}{r|ll}\n",
       " clase\\_ternaria & N\\\\\n",
       "\\hline\n",
       "\t CONTINUA & 81106   \\\\\n",
       "\t BAJA+1   &   569   \\\\\n",
       "\t BAJA+2   &   624   \\\\\n",
       "\\end{tabular}\n"
      ],
      "text/markdown": [
       "\n",
       "| clase_ternaria | N |\n",
       "|---|---|\n",
       "| CONTINUA | 81106    |\n",
       "| BAJA+1   |   569    |\n",
       "| BAJA+2   |   624    |\n",
       "\n"
      ],
      "text/plain": [
       "  clase_ternaria N    \n",
       "1 CONTINUA       81106\n",
       "2 BAJA+1           569\n",
       "3 BAJA+2           624"
      ]
     },
     "metadata": {},
     "output_type": "display_data"
    },
    {
     "data": {
      "text/html": [
       "<table>\n",
       "<thead><tr><th scope=col>clase_ternaria</th><th scope=col>N</th></tr></thead>\n",
       "<tbody>\n",
       "\t<tr><td>CONTINUA</td><td>81105   </td></tr>\n",
       "\t<tr><td>BAJA+1  </td><td>  568   </td></tr>\n",
       "\t<tr><td>BAJA+2  </td><td>  624   </td></tr>\n",
       "</tbody>\n",
       "</table>\n"
      ],
      "text/latex": [
       "\\begin{tabular}{r|ll}\n",
       " clase\\_ternaria & N\\\\\n",
       "\\hline\n",
       "\t CONTINUA & 81105   \\\\\n",
       "\t BAJA+1   &   568   \\\\\n",
       "\t BAJA+2   &   624   \\\\\n",
       "\\end{tabular}\n"
      ],
      "text/markdown": [
       "\n",
       "| clase_ternaria | N |\n",
       "|---|---|\n",
       "| CONTINUA | 81105    |\n",
       "| BAJA+1   |   568    |\n",
       "| BAJA+2   |   624    |\n",
       "\n"
      ],
      "text/plain": [
       "  clase_ternaria N    \n",
       "1 CONTINUA       81105\n",
       "2 BAJA+1           568\n",
       "3 BAJA+2           624"
      ]
     },
     "metadata": {},
     "output_type": "display_data"
    }
   ],
   "source": [
    "djulio[, .N, clase_ternaria]\n",
    "dtrain[, .N, clase_ternaria]\n",
    "dtest[, .N, clase_ternaria]\n"
   ]
  },
  {
   "attachments": {},
   "cell_type": "markdown",
   "metadata": {},
   "source": [
    "La division se ha construido en forma perfectamente estratificada !"
   ]
  }
 ],
 "metadata": {
  "kernelspec": {
   "display_name": "R",
   "language": "R",
   "name": "ir"
  },
  "language_info": {
   "codemirror_mode": "r",
   "file_extension": ".r",
   "mimetype": "text/x-r-source",
   "name": "R",
   "pygments_lexer": "r",
   "version": "3.6.1"
  }
 },
 "nbformat": 4,
 "nbformat_minor": 4
}
