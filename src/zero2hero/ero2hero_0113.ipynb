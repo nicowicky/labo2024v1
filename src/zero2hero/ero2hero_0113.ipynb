{
 "cells": [
  {
   "attachments": {},
   "cell_type": "markdown",
   "metadata": {},
   "source": [
    "# Zero to Hero"
   ]
  },
  {
   "attachments": {},
   "cell_type": "markdown",
   "metadata": {},
   "source": [
    "## 1.13  Acumulando resultados en un vector"
   ]
  },
  {
   "attachments": {},
   "cell_type": "markdown",
   "metadata": {},
   "source": [
    "Este elemental notebook muestra desde cero como acumular resultados en un vector, será un primer paso para luego escribir scripts en donde guardemos los resultados de nuestros procesos en vectores o en un dataset si es necesario."
   ]
  },
  {
   "attachments": {},
   "cell_type": "markdown",
   "metadata": {},
   "source": [
    "Partimos primero de un vector, al que queremos agregarle al final un elemento nuevo"
   ]
  },
  {
   "cell_type": "code",
   "execution_count": 41,
   "metadata": {},
   "outputs": [
    {
     "data": {
      "text/html": [
       "'C:/Users/chess'"
      ],
      "text/latex": [
       "'C:/Users/chess'"
      ],
      "text/markdown": [
       "'C:/Users/chess'"
      ],
      "text/plain": [
       "[1] \"C:/Users/chess\""
      ]
     },
     "metadata": {},
     "output_type": "display_data"
    }
   ],
   "source": [
    "getwd()"
   ]
  },
  {
   "cell_type": "code",
   "execution_count": 16,
   "metadata": {
    "tags": [],
    "vscode": {
     "languageId": "r"
    }
   },
   "outputs": [],
   "source": [
    "vector <- c(1, 2, 3, 4, 5, 9, 12, 15)\n"
   ]
  },
  {
   "cell_type": "code",
   "execution_count": 17,
   "metadata": {
    "tags": [],
    "vscode": {
     "languageId": "r"
    }
   },
   "outputs": [
    {
     "data": {
      "text/html": [
       "<ol class=list-inline>\n",
       "\t<li>1</li>\n",
       "\t<li>2</li>\n",
       "\t<li>3</li>\n",
       "\t<li>4</li>\n",
       "\t<li>5</li>\n",
       "\t<li>9</li>\n",
       "\t<li>12</li>\n",
       "\t<li>15</li>\n",
       "</ol>\n"
      ],
      "text/latex": [
       "\\begin{enumerate*}\n",
       "\\item 1\n",
       "\\item 2\n",
       "\\item 3\n",
       "\\item 4\n",
       "\\item 5\n",
       "\\item 9\n",
       "\\item 12\n",
       "\\item 15\n",
       "\\end{enumerate*}\n"
      ],
      "text/markdown": [
       "1. 1\n",
       "2. 2\n",
       "3. 3\n",
       "4. 4\n",
       "5. 5\n",
       "6. 9\n",
       "7. 12\n",
       "8. 15\n",
       "\n",
       "\n"
      ],
      "text/plain": [
       "[1]  1  2  3  4  5  9 12 15"
      ]
     },
     "metadata": {},
     "output_type": "display_data"
    }
   ],
   "source": [
    "vector\n"
   ]
  },
  {
   "attachments": {},
   "cell_type": "markdown",
   "metadata": {},
   "source": [
    "agregar un elemento al final, a  **vector** , es tan simple como"
   ]
  },
  {
   "cell_type": "code",
   "execution_count": 18,
   "metadata": {
    "tags": [],
    "vscode": {
     "languageId": "r"
    }
   },
   "outputs": [],
   "source": [
    "vector <- c(vector, 6, 12,18)\n"
   ]
  },
  {
   "cell_type": "code",
   "execution_count": 19,
   "metadata": {
    "tags": [],
    "vscode": {
     "languageId": "r"
    }
   },
   "outputs": [
    {
     "data": {
      "text/html": [
       "<ol class=list-inline>\n",
       "\t<li>1</li>\n",
       "\t<li>2</li>\n",
       "\t<li>3</li>\n",
       "\t<li>4</li>\n",
       "\t<li>5</li>\n",
       "\t<li>9</li>\n",
       "\t<li>12</li>\n",
       "\t<li>15</li>\n",
       "\t<li>6</li>\n",
       "\t<li>12</li>\n",
       "\t<li>18</li>\n",
       "</ol>\n"
      ],
      "text/latex": [
       "\\begin{enumerate*}\n",
       "\\item 1\n",
       "\\item 2\n",
       "\\item 3\n",
       "\\item 4\n",
       "\\item 5\n",
       "\\item 9\n",
       "\\item 12\n",
       "\\item 15\n",
       "\\item 6\n",
       "\\item 12\n",
       "\\item 18\n",
       "\\end{enumerate*}\n"
      ],
      "text/markdown": [
       "1. 1\n",
       "2. 2\n",
       "3. 3\n",
       "4. 4\n",
       "5. 5\n",
       "6. 9\n",
       "7. 12\n",
       "8. 15\n",
       "9. 6\n",
       "10. 12\n",
       "11. 18\n",
       "\n",
       "\n"
      ],
      "text/plain": [
       " [1]  1  2  3  4  5  9 12 15  6 12 18"
      ]
     },
     "metadata": {},
     "output_type": "display_data"
    }
   ],
   "source": [
    "vector\n"
   ]
  },
  {
   "attachments": {},
   "cell_type": "markdown",
   "metadata": {},
   "source": [
    "Ahora definimos una funcion para ejemplificar"
   ]
  },
  {
   "cell_type": "code",
   "execution_count": 20,
   "metadata": {
    "tags": [],
    "vscode": {
     "languageId": "r"
    }
   },
   "outputs": [],
   "source": [
    "potencia_invertida <- function(x) {\n",
    "    return(1 / 2^x)\n",
    "}"
   ]
  },
  {
   "cell_type": "code",
   "execution_count": 21,
   "metadata": {
    "tags": [],
    "vscode": {
     "languageId": "r"
    }
   },
   "outputs": [],
   "source": [
    "# creo el vector vacio donde voy a acumular\n"
   ]
  },
  {
   "cell_type": "code",
   "execution_count": 22,
   "metadata": {
    "tags": [],
    "vscode": {
     "languageId": "r"
    }
   },
   "outputs": [],
   "source": [
    "resultados <- c()\n"
   ]
  },
  {
   "attachments": {},
   "cell_type": "markdown",
   "metadata": {},
   "source": [
    "Lo siguiente es la instruccion  **for**  \n",
    "<br>\n",
    "Lo razón mas importante de existir de las computadoras es poder computar en donde se pueda repitir algo  **muchas veces**\n",
    "<br>\n",
    "Cuando está fija la cantidad de veces que se va a repetir algo, se utiliza la instruccion **for**"
   ]
  },
  {
   "cell_type": "code",
   "execution_count": 23,
   "metadata": {
    "tags": [],
    "vscode": {
     "languageId": "r"
    }
   },
   "outputs": [
    {
     "name": "stdout",
     "output_type": "stream",
     "text": [
      "0.5 \n",
      "0.5 0.25 \n",
      "0.5 0.25 0.125 \n",
      "0.5 0.25 0.125 0.0625 \n",
      "0.5 0.25 0.125 0.0625 0.03125 \n",
      "0.5 0.25 0.125 0.0625 0.03125 0.015625 \n",
      "0.5 0.25 0.125 0.0625 0.03125 0.015625 0.0078125 \n",
      "0.5 0.25 0.125 0.0625 0.03125 0.015625 0.0078125 0.00390625 \n",
      "0.5 0.25 0.125 0.0625 0.03125 0.015625 0.0078125 0.00390625 0.001953125 \n",
      "0.5 0.25 0.125 0.0625 0.03125 0.015625 0.0078125 0.00390625 0.001953125 0.0009765625 \n",
      "0.5 0.25 0.125 0.0625 0.03125 0.015625 0.0078125 0.00390625 0.001953125 0.0009765625 0.0004882812 \n",
      "0.5 0.25 0.125 0.0625 0.03125 0.015625 0.0078125 0.00390625 0.001953125 0.0009765625 0.0004882812 0.0002441406 \n",
      "0.5 0.25 0.125 0.0625 0.03125 0.015625 0.0078125 0.00390625 0.001953125 0.0009765625 0.0004882812 0.0002441406 0.0001220703 \n",
      "0.5 0.25 0.125 0.0625 0.03125 0.015625 0.0078125 0.00390625 0.001953125 0.0009765625 0.0004882812 0.0002441406 0.0001220703 6.103516e-05 \n"
     ]
    }
   ],
   "source": [
    "for (x in 1:14){\n",
    "    y <- potencia_invertida(x)\n",
    "    resultados <- c(resultados, y)\n",
    "\n",
    "    cat(resultados, \"\\n\")\n",
    "}\n"
   ]
  },
  {
   "attachments": {},
   "cell_type": "markdown",
   "metadata": {},
   "source": [
    "Me fijo que tiene resultados"
   ]
  },
  {
   "attachments": {},
   "cell_type": "markdown",
   "metadata": {},
   "source": [
    "Se observa como va creciendo el vector, agregando a cada paso el nuevo resultado"
   ]
  },
  {
   "cell_type": "code",
   "execution_count": 24,
   "metadata": {
    "tags": [],
    "vscode": {
     "languageId": "r"
    }
   },
   "outputs": [
    {
     "data": {
      "text/html": [
       "<ol class=list-inline>\n",
       "\t<li>0.5</li>\n",
       "\t<li>0.25</li>\n",
       "\t<li>0.125</li>\n",
       "\t<li>0.0625</li>\n",
       "\t<li>0.03125</li>\n",
       "\t<li>0.015625</li>\n",
       "\t<li>0.0078125</li>\n",
       "\t<li>0.00390625</li>\n",
       "\t<li>0.001953125</li>\n",
       "\t<li>0.0009765625</li>\n",
       "\t<li>0.00048828125</li>\n",
       "\t<li>0.000244140625</li>\n",
       "\t<li>0.0001220703125</li>\n",
       "\t<li>6.103515625e-05</li>\n",
       "</ol>\n"
      ],
      "text/latex": [
       "\\begin{enumerate*}\n",
       "\\item 0.5\n",
       "\\item 0.25\n",
       "\\item 0.125\n",
       "\\item 0.0625\n",
       "\\item 0.03125\n",
       "\\item 0.015625\n",
       "\\item 0.0078125\n",
       "\\item 0.00390625\n",
       "\\item 0.001953125\n",
       "\\item 0.0009765625\n",
       "\\item 0.00048828125\n",
       "\\item 0.000244140625\n",
       "\\item 0.0001220703125\n",
       "\\item 6.103515625e-05\n",
       "\\end{enumerate*}\n"
      ],
      "text/markdown": [
       "1. 0.5\n",
       "2. 0.25\n",
       "3. 0.125\n",
       "4. 0.0625\n",
       "5. 0.03125\n",
       "6. 0.015625\n",
       "7. 0.0078125\n",
       "8. 0.00390625\n",
       "9. 0.001953125\n",
       "10. 0.0009765625\n",
       "11. 0.00048828125\n",
       "12. 0.000244140625\n",
       "13. 0.0001220703125\n",
       "14. 6.103515625e-05\n",
       "\n",
       "\n"
      ],
      "text/plain": [
       " [1] 5.000000e-01 2.500000e-01 1.250000e-01 6.250000e-02 3.125000e-02\n",
       " [6] 1.562500e-02 7.812500e-03 3.906250e-03 1.953125e-03 9.765625e-04\n",
       "[11] 4.882812e-04 2.441406e-04 1.220703e-04 6.103516e-05"
      ]
     },
     "metadata": {},
     "output_type": "display_data"
    }
   ],
   "source": [
    "resultados\n"
   ]
  },
  {
   "attachments": {},
   "cell_type": "markdown",
   "metadata": {},
   "source": [
    "finalmente,  de curiosidad, sumo los primeros 30 terminos"
   ]
  },
  {
   "cell_type": "code",
   "execution_count": 35,
   "metadata": {
    "tags": [],
    "vscode": {
     "languageId": "r"
    }
   },
   "outputs": [],
   "source": [
    "resultados <- c()\n"
   ]
  },
  {
   "cell_type": "code",
   "execution_count": 36,
   "metadata": {
    "tags": [],
    "vscode": {
     "languageId": "r"
    }
   },
   "outputs": [],
   "source": [
    "for (x in 1:30)\n",
    "{\n",
    "    y <- potencia_invertida(x)\n",
    "    resultados <- c(resultados, y)\n",
    "}\n"
   ]
  },
  {
   "cell_type": "code",
   "execution_count": 37,
   "metadata": {
    "tags": [],
    "vscode": {
     "languageId": "r"
    }
   },
   "outputs": [
    {
     "data": {
      "text/html": [
       "<ol class=list-inline>\n",
       "\t<li>0.5</li>\n",
       "\t<li>0.25</li>\n",
       "\t<li>0.125</li>\n",
       "\t<li>0.0625</li>\n",
       "\t<li>0.03125</li>\n",
       "\t<li>0.015625</li>\n",
       "\t<li>0.0078125</li>\n",
       "\t<li>0.00390625</li>\n",
       "\t<li>0.001953125</li>\n",
       "\t<li>0.0009765625</li>\n",
       "\t<li>0.00048828125</li>\n",
       "\t<li>0.000244140625</li>\n",
       "\t<li>0.0001220703125</li>\n",
       "\t<li>6.103515625e-05</li>\n",
       "\t<li>3.0517578125e-05</li>\n",
       "\t<li>1.52587890625e-05</li>\n",
       "\t<li>7.62939453125e-06</li>\n",
       "\t<li>3.814697265625e-06</li>\n",
       "\t<li>1.9073486328125e-06</li>\n",
       "\t<li>9.5367431640625e-07</li>\n",
       "\t<li>4.76837158203125e-07</li>\n",
       "\t<li>2.38418579101562e-07</li>\n",
       "\t<li>1.19209289550781e-07</li>\n",
       "\t<li>5.96046447753906e-08</li>\n",
       "\t<li>2.98023223876953e-08</li>\n",
       "\t<li>1.49011611938477e-08</li>\n",
       "\t<li>7.45058059692383e-09</li>\n",
       "\t<li>3.72529029846191e-09</li>\n",
       "\t<li>1.86264514923096e-09</li>\n",
       "\t<li>9.31322574615479e-10</li>\n",
       "</ol>\n"
      ],
      "text/latex": [
       "\\begin{enumerate*}\n",
       "\\item 0.5\n",
       "\\item 0.25\n",
       "\\item 0.125\n",
       "\\item 0.0625\n",
       "\\item 0.03125\n",
       "\\item 0.015625\n",
       "\\item 0.0078125\n",
       "\\item 0.00390625\n",
       "\\item 0.001953125\n",
       "\\item 0.0009765625\n",
       "\\item 0.00048828125\n",
       "\\item 0.000244140625\n",
       "\\item 0.0001220703125\n",
       "\\item 6.103515625e-05\n",
       "\\item 3.0517578125e-05\n",
       "\\item 1.52587890625e-05\n",
       "\\item 7.62939453125e-06\n",
       "\\item 3.814697265625e-06\n",
       "\\item 1.9073486328125e-06\n",
       "\\item 9.5367431640625e-07\n",
       "\\item 4.76837158203125e-07\n",
       "\\item 2.38418579101562e-07\n",
       "\\item 1.19209289550781e-07\n",
       "\\item 5.96046447753906e-08\n",
       "\\item 2.98023223876953e-08\n",
       "\\item 1.49011611938477e-08\n",
       "\\item 7.45058059692383e-09\n",
       "\\item 3.72529029846191e-09\n",
       "\\item 1.86264514923096e-09\n",
       "\\item 9.31322574615479e-10\n",
       "\\end{enumerate*}\n"
      ],
      "text/markdown": [
       "1. 0.5\n",
       "2. 0.25\n",
       "3. 0.125\n",
       "4. 0.0625\n",
       "5. 0.03125\n",
       "6. 0.015625\n",
       "7. 0.0078125\n",
       "8. 0.00390625\n",
       "9. 0.001953125\n",
       "10. 0.0009765625\n",
       "11. 0.00048828125\n",
       "12. 0.000244140625\n",
       "13. 0.0001220703125\n",
       "14. 6.103515625e-05\n",
       "15. 3.0517578125e-05\n",
       "16. 1.52587890625e-05\n",
       "17. 7.62939453125e-06\n",
       "18. 3.814697265625e-06\n",
       "19. 1.9073486328125e-06\n",
       "20. 9.5367431640625e-07\n",
       "21. 4.76837158203125e-07\n",
       "22. 2.38418579101562e-07\n",
       "23. 1.19209289550781e-07\n",
       "24. 5.96046447753906e-08\n",
       "25. 2.98023223876953e-08\n",
       "26. 1.49011611938477e-08\n",
       "27. 7.45058059692383e-09\n",
       "28. 3.72529029846191e-09\n",
       "29. 1.86264514923096e-09\n",
       "30. 9.31322574615479e-10\n",
       "\n",
       "\n"
      ],
      "text/plain": [
       " [1] 5.000000e-01 2.500000e-01 1.250000e-01 6.250000e-02 3.125000e-02\n",
       " [6] 1.562500e-02 7.812500e-03 3.906250e-03 1.953125e-03 9.765625e-04\n",
       "[11] 4.882812e-04 2.441406e-04 1.220703e-04 6.103516e-05 3.051758e-05\n",
       "[16] 1.525879e-05 7.629395e-06 3.814697e-06 1.907349e-06 9.536743e-07\n",
       "[21] 4.768372e-07 2.384186e-07 1.192093e-07 5.960464e-08 2.980232e-08\n",
       "[26] 1.490116e-08 7.450581e-09 3.725290e-09 1.862645e-09 9.313226e-10"
      ]
     },
     "metadata": {},
     "output_type": "display_data"
    }
   ],
   "source": [
    "resultados\n"
   ]
  },
  {
   "cell_type": "code",
   "execution_count": 38,
   "metadata": {
    "tags": [],
    "vscode": {
     "languageId": "r"
    }
   },
   "outputs": [
    {
     "data": {
      "text/html": [
       "0.999999999068677"
      ],
      "text/latex": [
       "0.999999999068677"
      ],
      "text/markdown": [
       "0.999999999068677"
      ],
      "text/plain": [
       "[1] 1"
      ]
     },
     "metadata": {},
     "output_type": "display_data"
    }
   ],
   "source": [
    "sum(resultados)\n"
   ]
  },
  {
   "attachments": {},
   "cell_type": "markdown",
   "metadata": {},
   "source": [
    "El resultado es aproximadamente 1 ,  como se esperaba matematicamente"
   ]
  },
  {
   "attachments": {},
   "cell_type": "markdown",
   "metadata": {},
   "source": [
    "### Otra forma de hacer lo anterior, trabajando con vectores en R es la siguiente  ( este sería el RStyle )"
   ]
  },
  {
   "attachments": {},
   "cell_type": "markdown",
   "metadata": {},
   "source": [
    "defino el vector como la secuencia de numeros del 1 al 100"
   ]
  },
  {
   "cell_type": "code",
   "execution_count": 29,
   "metadata": {
    "tags": [],
    "vscode": {
     "languageId": "r"
    }
   },
   "outputs": [],
   "source": [
    "vector <- 1:100\n"
   ]
  },
  {
   "attachments": {},
   "cell_type": "markdown",
   "metadata": {},
   "source": [
    "verifico que el vector tiene lo que necesito"
   ]
  },
  {
   "cell_type": "code",
   "execution_count": 30,
   "metadata": {
    "tags": [],
    "vscode": {
     "languageId": "r"
    }
   },
   "outputs": [
    {
     "data": {
      "text/html": [
       "<ol class=list-inline>\n",
       "\t<li>1</li>\n",
       "\t<li>2</li>\n",
       "\t<li>3</li>\n",
       "\t<li>4</li>\n",
       "\t<li>5</li>\n",
       "\t<li>6</li>\n",
       "\t<li>7</li>\n",
       "\t<li>8</li>\n",
       "\t<li>9</li>\n",
       "\t<li>10</li>\n",
       "\t<li>11</li>\n",
       "\t<li>12</li>\n",
       "\t<li>13</li>\n",
       "\t<li>14</li>\n",
       "\t<li>15</li>\n",
       "\t<li>16</li>\n",
       "\t<li>17</li>\n",
       "\t<li>18</li>\n",
       "\t<li>19</li>\n",
       "\t<li>20</li>\n",
       "\t<li>21</li>\n",
       "\t<li>22</li>\n",
       "\t<li>23</li>\n",
       "\t<li>24</li>\n",
       "\t<li>25</li>\n",
       "\t<li>26</li>\n",
       "\t<li>27</li>\n",
       "\t<li>28</li>\n",
       "\t<li>29</li>\n",
       "\t<li>30</li>\n",
       "\t<li>31</li>\n",
       "\t<li>32</li>\n",
       "\t<li>33</li>\n",
       "\t<li>34</li>\n",
       "\t<li>35</li>\n",
       "\t<li>36</li>\n",
       "\t<li>37</li>\n",
       "\t<li>38</li>\n",
       "\t<li>39</li>\n",
       "\t<li>40</li>\n",
       "\t<li>41</li>\n",
       "\t<li>42</li>\n",
       "\t<li>43</li>\n",
       "\t<li>44</li>\n",
       "\t<li>45</li>\n",
       "\t<li>46</li>\n",
       "\t<li>47</li>\n",
       "\t<li>48</li>\n",
       "\t<li>49</li>\n",
       "\t<li>50</li>\n",
       "\t<li>51</li>\n",
       "\t<li>52</li>\n",
       "\t<li>53</li>\n",
       "\t<li>54</li>\n",
       "\t<li>55</li>\n",
       "\t<li>56</li>\n",
       "\t<li>57</li>\n",
       "\t<li>58</li>\n",
       "\t<li>59</li>\n",
       "\t<li>60</li>\n",
       "\t<li>61</li>\n",
       "\t<li>62</li>\n",
       "\t<li>63</li>\n",
       "\t<li>64</li>\n",
       "\t<li>65</li>\n",
       "\t<li>66</li>\n",
       "\t<li>67</li>\n",
       "\t<li>68</li>\n",
       "\t<li>69</li>\n",
       "\t<li>70</li>\n",
       "\t<li>71</li>\n",
       "\t<li>72</li>\n",
       "\t<li>73</li>\n",
       "\t<li>74</li>\n",
       "\t<li>75</li>\n",
       "\t<li>76</li>\n",
       "\t<li>77</li>\n",
       "\t<li>78</li>\n",
       "\t<li>79</li>\n",
       "\t<li>80</li>\n",
       "\t<li>81</li>\n",
       "\t<li>82</li>\n",
       "\t<li>83</li>\n",
       "\t<li>84</li>\n",
       "\t<li>85</li>\n",
       "\t<li>86</li>\n",
       "\t<li>87</li>\n",
       "\t<li>88</li>\n",
       "\t<li>89</li>\n",
       "\t<li>90</li>\n",
       "\t<li>91</li>\n",
       "\t<li>92</li>\n",
       "\t<li>93</li>\n",
       "\t<li>94</li>\n",
       "\t<li>95</li>\n",
       "\t<li>96</li>\n",
       "\t<li>97</li>\n",
       "\t<li>98</li>\n",
       "\t<li>99</li>\n",
       "\t<li>100</li>\n",
       "</ol>\n"
      ],
      "text/latex": [
       "\\begin{enumerate*}\n",
       "\\item 1\n",
       "\\item 2\n",
       "\\item 3\n",
       "\\item 4\n",
       "\\item 5\n",
       "\\item 6\n",
       "\\item 7\n",
       "\\item 8\n",
       "\\item 9\n",
       "\\item 10\n",
       "\\item 11\n",
       "\\item 12\n",
       "\\item 13\n",
       "\\item 14\n",
       "\\item 15\n",
       "\\item 16\n",
       "\\item 17\n",
       "\\item 18\n",
       "\\item 19\n",
       "\\item 20\n",
       "\\item 21\n",
       "\\item 22\n",
       "\\item 23\n",
       "\\item 24\n",
       "\\item 25\n",
       "\\item 26\n",
       "\\item 27\n",
       "\\item 28\n",
       "\\item 29\n",
       "\\item 30\n",
       "\\item 31\n",
       "\\item 32\n",
       "\\item 33\n",
       "\\item 34\n",
       "\\item 35\n",
       "\\item 36\n",
       "\\item 37\n",
       "\\item 38\n",
       "\\item 39\n",
       "\\item 40\n",
       "\\item 41\n",
       "\\item 42\n",
       "\\item 43\n",
       "\\item 44\n",
       "\\item 45\n",
       "\\item 46\n",
       "\\item 47\n",
       "\\item 48\n",
       "\\item 49\n",
       "\\item 50\n",
       "\\item 51\n",
       "\\item 52\n",
       "\\item 53\n",
       "\\item 54\n",
       "\\item 55\n",
       "\\item 56\n",
       "\\item 57\n",
       "\\item 58\n",
       "\\item 59\n",
       "\\item 60\n",
       "\\item 61\n",
       "\\item 62\n",
       "\\item 63\n",
       "\\item 64\n",
       "\\item 65\n",
       "\\item 66\n",
       "\\item 67\n",
       "\\item 68\n",
       "\\item 69\n",
       "\\item 70\n",
       "\\item 71\n",
       "\\item 72\n",
       "\\item 73\n",
       "\\item 74\n",
       "\\item 75\n",
       "\\item 76\n",
       "\\item 77\n",
       "\\item 78\n",
       "\\item 79\n",
       "\\item 80\n",
       "\\item 81\n",
       "\\item 82\n",
       "\\item 83\n",
       "\\item 84\n",
       "\\item 85\n",
       "\\item 86\n",
       "\\item 87\n",
       "\\item 88\n",
       "\\item 89\n",
       "\\item 90\n",
       "\\item 91\n",
       "\\item 92\n",
       "\\item 93\n",
       "\\item 94\n",
       "\\item 95\n",
       "\\item 96\n",
       "\\item 97\n",
       "\\item 98\n",
       "\\item 99\n",
       "\\item 100\n",
       "\\end{enumerate*}\n"
      ],
      "text/markdown": [
       "1. 1\n",
       "2. 2\n",
       "3. 3\n",
       "4. 4\n",
       "5. 5\n",
       "6. 6\n",
       "7. 7\n",
       "8. 8\n",
       "9. 9\n",
       "10. 10\n",
       "11. 11\n",
       "12. 12\n",
       "13. 13\n",
       "14. 14\n",
       "15. 15\n",
       "16. 16\n",
       "17. 17\n",
       "18. 18\n",
       "19. 19\n",
       "20. 20\n",
       "21. 21\n",
       "22. 22\n",
       "23. 23\n",
       "24. 24\n",
       "25. 25\n",
       "26. 26\n",
       "27. 27\n",
       "28. 28\n",
       "29. 29\n",
       "30. 30\n",
       "31. 31\n",
       "32. 32\n",
       "33. 33\n",
       "34. 34\n",
       "35. 35\n",
       "36. 36\n",
       "37. 37\n",
       "38. 38\n",
       "39. 39\n",
       "40. 40\n",
       "41. 41\n",
       "42. 42\n",
       "43. 43\n",
       "44. 44\n",
       "45. 45\n",
       "46. 46\n",
       "47. 47\n",
       "48. 48\n",
       "49. 49\n",
       "50. 50\n",
       "51. 51\n",
       "52. 52\n",
       "53. 53\n",
       "54. 54\n",
       "55. 55\n",
       "56. 56\n",
       "57. 57\n",
       "58. 58\n",
       "59. 59\n",
       "60. 60\n",
       "61. 61\n",
       "62. 62\n",
       "63. 63\n",
       "64. 64\n",
       "65. 65\n",
       "66. 66\n",
       "67. 67\n",
       "68. 68\n",
       "69. 69\n",
       "70. 70\n",
       "71. 71\n",
       "72. 72\n",
       "73. 73\n",
       "74. 74\n",
       "75. 75\n",
       "76. 76\n",
       "77. 77\n",
       "78. 78\n",
       "79. 79\n",
       "80. 80\n",
       "81. 81\n",
       "82. 82\n",
       "83. 83\n",
       "84. 84\n",
       "85. 85\n",
       "86. 86\n",
       "87. 87\n",
       "88. 88\n",
       "89. 89\n",
       "90. 90\n",
       "91. 91\n",
       "92. 92\n",
       "93. 93\n",
       "94. 94\n",
       "95. 95\n",
       "96. 96\n",
       "97. 97\n",
       "98. 98\n",
       "99. 99\n",
       "100. 100\n",
       "\n",
       "\n"
      ],
      "text/plain": [
       "  [1]   1   2   3   4   5   6   7   8   9  10  11  12  13  14  15  16  17  18\n",
       " [19]  19  20  21  22  23  24  25  26  27  28  29  30  31  32  33  34  35  36\n",
       " [37]  37  38  39  40  41  42  43  44  45  46  47  48  49  50  51  52  53  54\n",
       " [55]  55  56  57  58  59  60  61  62  63  64  65  66  67  68  69  70  71  72\n",
       " [73]  73  74  75  76  77  78  79  80  81  82  83  84  85  86  87  88  89  90\n",
       " [91]  91  92  93  94  95  96  97  98  99 100"
      ]
     },
     "metadata": {},
     "output_type": "display_data"
    }
   ],
   "source": [
    "vector\n"
   ]
  },
  {
   "attachments": {},
   "cell_type": "markdown",
   "metadata": {},
   "source": [
    "calculo la operacion matematica de 1/(2^x)  pero aplicándola a TODO el vector"
   ]
  },
  {
   "cell_type": "code",
   "execution_count": 39,
   "metadata": {
    "tags": [],
    "vscode": {
     "languageId": "r"
    }
   },
   "outputs": [],
   "source": [
    "resultados <- 1 / (2^vector)\n"
   ]
  },
  {
   "attachments": {},
   "cell_type": "markdown",
   "metadata": {},
   "source": [
    "verifico que hay en resultados"
   ]
  },
  {
   "attachments": {},
   "cell_type": "markdown",
   "metadata": {},
   "source": [
    "calculo la suma de lo que quedó en el vector resultados"
   ]
  },
  {
   "cell_type": "code",
   "execution_count": 40,
   "metadata": {
    "tags": [],
    "vscode": {
     "languageId": "r"
    }
   },
   "outputs": [
    {
     "data": {
      "text/html": [
       "1"
      ],
      "text/latex": [
       "1"
      ],
      "text/markdown": [
       "1"
      ],
      "text/plain": [
       "[1] 1"
      ]
     },
     "metadata": {},
     "output_type": "display_data"
    }
   ],
   "source": [
    "sum(resultados)\n"
   ]
  },
  {
   "attachments": {},
   "cell_type": "markdown",
   "metadata": {},
   "source": [
    "Efectivamente me da 1, igual que la forma anterior de calcularlo"
   ]
  },
  {
   "attachments": {},
   "cell_type": "markdown",
   "metadata": {},
   "source": [
    "Hemos visto DOS formas de hacer un calculo, el elemental con la instruccion  **for**  y el vectorial de R"
   ]
  },
  {
   "attachments": {},
   "cell_type": "markdown",
   "metadata": {},
   "source": [
    "Obviamente,  R internamente resuelve el calculo vectorial haciendo un **for**"
   ]
  }
 ],
 "metadata": {
  "kernelspec": {
   "display_name": "R",
   "language": "R",
   "name": "ir"
  },
  "language_info": {
   "codemirror_mode": "r",
   "file_extension": ".r",
   "mimetype": "text/x-r-source",
   "name": "R",
   "pygments_lexer": "r",
   "version": "3.6.1"
  }
 },
 "nbformat": 4,
 "nbformat_minor": 4
}
