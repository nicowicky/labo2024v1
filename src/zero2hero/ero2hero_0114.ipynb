{
 "cells": [
  {
   "attachments": {},
   "cell_type": "markdown",
   "metadata": {},
   "source": [
    "# Zero to Hero"
   ]
  },
  {
   "attachments": {},
   "cell_type": "markdown",
   "metadata": {},
   "source": [
    "## 1.14 Montecarlo Estimation, Arbol\n",
    "## con un for loop"
   ]
  },
  {
   "attachments": {},
   "cell_type": "markdown",
   "metadata": {},
   "source": [
    "El objetivo es implementar con un for loop la estimacion montecarlo, que promedia las ganancias"
   ]
  },
  {
   "cell_type": "code",
   "execution_count": 23,
   "metadata": {
    "vscode": {
     "languageId": "r"
    }
   },
   "outputs": [
    {
     "data": {
      "text/html": [
       "<table>\n",
       "<thead><tr><th></th><th scope=col>used</th><th scope=col>(Mb)</th><th scope=col>gc trigger</th><th scope=col>(Mb)</th><th scope=col>max used</th><th scope=col>(Mb)</th></tr></thead>\n",
       "<tbody>\n",
       "\t<tr><th scope=row>Ncells</th><td> 1996484 </td><td>106.7    </td><td>  3811362</td><td> 203.6   </td><td>  3356197</td><td>179.3    </td></tr>\n",
       "\t<tr><th scope=row>Vcells</th><td>51792304 </td><td>395.2    </td><td>136056706</td><td>1038.1   </td><td>115677772</td><td>882.6    </td></tr>\n",
       "</tbody>\n",
       "</table>\n"
      ],
      "text/latex": [
       "\\begin{tabular}{r|llllll}\n",
       "  & used & (Mb) & gc trigger & (Mb) & max used & (Mb)\\\\\n",
       "\\hline\n",
       "\tNcells &  1996484  & 106.7     &   3811362 &  203.6    &   3356197 & 179.3    \\\\\n",
       "\tVcells & 51792304  & 395.2     & 136056706 & 1038.1    & 115677772 & 882.6    \\\\\n",
       "\\end{tabular}\n"
      ],
      "text/markdown": [
       "\n",
       "| <!--/--> | used | (Mb) | gc trigger | (Mb) | max used | (Mb) |\n",
       "|---|---|---|---|---|---|---|\n",
       "| Ncells |  1996484  | 106.7     |   3811362 |  203.6    |   3356197 | 179.3     |\n",
       "| Vcells | 51792304  | 395.2     | 136056706 | 1038.1    | 115677772 | 882.6     |\n",
       "\n"
      ],
      "text/plain": [
       "       used     (Mb)  gc trigger (Mb)   max used  (Mb) \n",
       "Ncells  1996484 106.7   3811362   203.6   3356197 179.3\n",
       "Vcells 51792304 395.2 136056706  1038.1 115677772 882.6"
      ]
     },
     "metadata": {},
     "output_type": "display_data"
    }
   ],
   "source": [
    "rm(list = ls())\n",
    "gc()\n",
    "#install.packages(\"rpart.plot\")"
   ]
  },
  {
   "cell_type": "code",
   "execution_count": 24,
   "metadata": {
    "vscode": {
     "languageId": "r"
    }
   },
   "outputs": [
    {
     "data": {
      "text/html": [
       "<table>\n",
       "<thead><tr><th scope=col>numero_de_cliente</th><th scope=col>foto_mes</th><th scope=col>active_quarter</th><th scope=col>cliente_vip</th><th scope=col>internet</th><th scope=col>cliente_edad</th><th scope=col>cliente_antiguedad</th><th scope=col>mrentabilidad</th><th scope=col>mrentabilidad_annual</th><th scope=col>mcomisiones</th><th scope=col>...</th><th scope=col>Visa_fultimo_cierre</th><th scope=col>Visa_mpagado</th><th scope=col>Visa_mpagospesos</th><th scope=col>Visa_mpagosdolares</th><th scope=col>Visa_fechaalta</th><th scope=col>Visa_mconsumototal</th><th scope=col>Visa_cconsumos</th><th scope=col>Visa_cadelantosefectivo</th><th scope=col>Visa_mpagominimo</th><th scope=col>clase_ternaria</th></tr></thead>\n",
       "<tbody>\n",
       "\t<tr><td>29183733 </td><td>202107   </td><td>1        </td><td>0        </td><td>0        </td><td>46       </td><td> 99      </td><td>2016.19  </td><td>32146.69 </td><td>1099.10  </td><td>...      </td><td> 3       </td><td>    0.00 </td><td>-27151.97</td><td>0        </td><td>2995     </td><td>10011.78 </td><td> 6       </td><td>0        </td><td> 2498.49 </td><td>CONTINUA </td></tr>\n",
       "\t<tr><td>29184468 </td><td>202107   </td><td>1        </td><td>0        </td><td>0        </td><td>42       </td><td>284      </td><td>1633.70  </td><td>13781.99 </td><td> 602.61  </td><td>...      </td><td>10       </td><td>    0.00 </td><td>-19268.21</td><td>0        </td><td>5722     </td><td>15138.18 </td><td> 9       </td><td>0        </td><td> 3178.83 </td><td>CONTINUA </td></tr>\n",
       "\t<tr><td>29185245 </td><td>202107   </td><td>1        </td><td>0        </td><td>0        </td><td>55       </td><td> 23      </td><td>3759.73  </td><td>24296.95 </td><td>2829.38  </td><td>...      </td><td> 3       </td><td>    0.00 </td><td> -8211.00</td><td>0        </td><td> 758     </td><td>58080.27 </td><td>10       </td><td>0        </td><td>26240.01 </td><td>CONTINUA </td></tr>\n",
       "\t<tr><td>29186441 </td><td>202107   </td><td>1        </td><td>0        </td><td>0        </td><td>62       </td><td>296      </td><td>2693.26  </td><td>75390.56 </td><td>2493.68  </td><td>...      </td><td>24       </td><td>41585.05 </td><td>-42723.62</td><td>0        </td><td>8097     </td><td>26541.92 </td><td> 8       </td><td>0        </td><td> 1782.96 </td><td>CONTINUA </td></tr>\n",
       "\t<tr><td>29186475 </td><td>202107   </td><td>1        </td><td>0        </td><td>0        </td><td>66       </td><td>326      </td><td>4567.63  </td><td>56305.98 </td><td>3690.64  </td><td>...      </td><td> 3       </td><td>    0.00 </td><td>-51675.11</td><td>0        </td><td>2139     </td><td>50304.17 </td><td>16       </td><td>0        </td><td> 3577.65 </td><td>CONTINUA </td></tr>\n",
       "</tbody>\n",
       "</table>\n"
      ],
      "text/latex": [
       "\\begin{tabular}{r|lllllllllllllllllllllllllllllllllllllllllllllllllllllllllllllllllllllllllllllllllllllllllllllllllllllllllllllllllllllllllllllllllllllllllllllllllllllllllll}\n",
       " numero\\_de\\_cliente & foto\\_mes & active\\_quarter & cliente\\_vip & internet & cliente\\_edad & cliente\\_antiguedad & mrentabilidad & mrentabilidad\\_annual & mcomisiones & ... & Visa\\_fultimo\\_cierre & Visa\\_mpagado & Visa\\_mpagospesos & Visa\\_mpagosdolares & Visa\\_fechaalta & Visa\\_mconsumototal & Visa\\_cconsumos & Visa\\_cadelantosefectivo & Visa\\_mpagominimo & clase\\_ternaria\\\\\n",
       "\\hline\n",
       "\t 29183733  & 202107    & 1         & 0         & 0         & 46        &  99       & 2016.19   & 32146.69  & 1099.10   & ...       &  3        &     0.00  & -27151.97 & 0         & 2995      & 10011.78  &  6        & 0         &  2498.49  & CONTINUA \\\\\n",
       "\t 29184468  & 202107    & 1         & 0         & 0         & 42        & 284       & 1633.70   & 13781.99  &  602.61   & ...       & 10        &     0.00  & -19268.21 & 0         & 5722      & 15138.18  &  9        & 0         &  3178.83  & CONTINUA \\\\\n",
       "\t 29185245  & 202107    & 1         & 0         & 0         & 55        &  23       & 3759.73   & 24296.95  & 2829.38   & ...       &  3        &     0.00  &  -8211.00 & 0         &  758      & 58080.27  & 10        & 0         & 26240.01  & CONTINUA \\\\\n",
       "\t 29186441  & 202107    & 1         & 0         & 0         & 62        & 296       & 2693.26   & 75390.56  & 2493.68   & ...       & 24        & 41585.05  & -42723.62 & 0         & 8097      & 26541.92  &  8        & 0         &  1782.96  & CONTINUA \\\\\n",
       "\t 29186475  & 202107    & 1         & 0         & 0         & 66        & 326       & 4567.63   & 56305.98  & 3690.64   & ...       &  3        &     0.00  & -51675.11 & 0         & 2139      & 50304.17  & 16        & 0         &  3577.65  & CONTINUA \\\\\n",
       "\\end{tabular}\n"
      ],
      "text/markdown": [
       "\n",
       "| numero_de_cliente | foto_mes | active_quarter | cliente_vip | internet | cliente_edad | cliente_antiguedad | mrentabilidad | mrentabilidad_annual | mcomisiones | ... | Visa_fultimo_cierre | Visa_mpagado | Visa_mpagospesos | Visa_mpagosdolares | Visa_fechaalta | Visa_mconsumototal | Visa_cconsumos | Visa_cadelantosefectivo | Visa_mpagominimo | clase_ternaria |\n",
       "|---|---|---|---|---|---|---|---|---|---|---|---|---|---|---|---|---|---|---|---|---|\n",
       "| 29183733  | 202107    | 1         | 0         | 0         | 46        |  99       | 2016.19   | 32146.69  | 1099.10   | ...       |  3        |     0.00  | -27151.97 | 0         | 2995      | 10011.78  |  6        | 0         |  2498.49  | CONTINUA  |\n",
       "| 29184468  | 202107    | 1         | 0         | 0         | 42        | 284       | 1633.70   | 13781.99  |  602.61   | ...       | 10        |     0.00  | -19268.21 | 0         | 5722      | 15138.18  |  9        | 0         |  3178.83  | CONTINUA  |\n",
       "| 29185245  | 202107    | 1         | 0         | 0         | 55        |  23       | 3759.73   | 24296.95  | 2829.38   | ...       |  3        |     0.00  |  -8211.00 | 0         |  758      | 58080.27  | 10        | 0         | 26240.01  | CONTINUA  |\n",
       "| 29186441  | 202107    | 1         | 0         | 0         | 62        | 296       | 2693.26   | 75390.56  | 2493.68   | ...       | 24        | 41585.05  | -42723.62 | 0         | 8097      | 26541.92  |  8        | 0         |  1782.96  | CONTINUA  |\n",
       "| 29186475  | 202107    | 1         | 0         | 0         | 66        | 326       | 4567.63   | 56305.98  | 3690.64   | ...       |  3        |     0.00  | -51675.11 | 0         | 2139      | 50304.17  | 16        | 0         |  3577.65  | CONTINUA  |\n",
       "\n"
      ],
      "text/plain": [
       "  numero_de_cliente foto_mes active_quarter cliente_vip internet cliente_edad\n",
       "1 29183733          202107   1              0           0        46          \n",
       "2 29184468          202107   1              0           0        42          \n",
       "3 29185245          202107   1              0           0        55          \n",
       "4 29186441          202107   1              0           0        62          \n",
       "5 29186475          202107   1              0           0        66          \n",
       "  cliente_antiguedad mrentabilidad mrentabilidad_annual mcomisiones ...\n",
       "1  99                2016.19       32146.69             1099.10     ...\n",
       "2 284                1633.70       13781.99              602.61     ...\n",
       "3  23                3759.73       24296.95             2829.38     ...\n",
       "4 296                2693.26       75390.56             2493.68     ...\n",
       "5 326                4567.63       56305.98             3690.64     ...\n",
       "  Visa_fultimo_cierre Visa_mpagado Visa_mpagospesos Visa_mpagosdolares\n",
       "1  3                      0.00     -27151.97        0                 \n",
       "2 10                      0.00     -19268.21        0                 \n",
       "3  3                      0.00      -8211.00        0                 \n",
       "4 24                  41585.05     -42723.62        0                 \n",
       "5  3                      0.00     -51675.11        0                 \n",
       "  Visa_fechaalta Visa_mconsumototal Visa_cconsumos Visa_cadelantosefectivo\n",
       "1 2995           10011.78            6             0                      \n",
       "2 5722           15138.18            9             0                      \n",
       "3  758           58080.27           10             0                      \n",
       "4 8097           26541.92            8             0                      \n",
       "5 2139           50304.17           16             0                      \n",
       "  Visa_mpagominimo clase_ternaria\n",
       "1  2498.49         CONTINUA      \n",
       "2  3178.83         CONTINUA      \n",
       "3 26240.01         CONTINUA      \n",
       "4  1782.96         CONTINUA      \n",
       "5  3577.65         CONTINUA      "
      ]
     },
     "metadata": {},
     "output_type": "display_data"
    }
   ],
   "source": [
    "library(\"data.table\") # cargo la libreria  data.table\n",
    "library(\"rpart\") # cargo la libreria  rpart\n",
    "#library(\"rpart.plot\")\n",
    "library(\"caret\")\n",
    "\n",
    "#options(repr.plot.width = 20, repr.plot.height = 10)\n",
    "#setwd(\"~/buckets/b1/\")\n",
    "dataset <- fread(\"D:\\\\MAESTRIA AUSTRAL DATA SCIENCE\\\\MATERIAS\\\\2doSem\\\\Laboratorio 1\\\\datasets\\\\dataset_pequeno.csv\")\n",
    "head(dataset, 5)"
   ]
  },
  {
   "attachments": {},
   "cell_type": "markdown",
   "metadata": {},
   "source": [
    "La funcion que definimos en el notebook anterior"
   ]
  },
  {
   "cell_type": "code",
   "execution_count": 26,
   "metadata": {
    "vscode": {
     "languageId": "r"
    }
   },
   "outputs": [],
   "source": [
    "GananciaArbol <- function(semilla, data, x, train = 0.70) {\n",
    "  # establezco la semilla\n",
    "  set.seed(semilla)\n",
    "  \n",
    "  train_rows <- createDataPartition(dataset$clase_ternaria, p = 0.70, list = FALSE)\n",
    " \n",
    "  modelo <- rpart::rpart(\n",
    "    formula = \"clase_ternaria ~ .\",\n",
    "    data = data[train_rows], # los datos de training\n",
    "    xval = 0,\n",
    "    control = x\n",
    "  )\n",
    "\n",
    "  # Aplico el modelo a los datos de testing\n",
    "  prediccion <- predict(modelo, data[-train_rows], type = \"prob\")\n",
    "\n",
    "  prob_baja2 <- prediccion[, \"BAJA+2\"]\n",
    "  ganancia_testing <- data[-train_rows, sum((prob_baja2 > 0.025) * ifelse(clase_ternaria == \"BAJA+2\", 117000, -3000))]\n",
    "\n",
    "  # normalizo la ganancia\n",
    "  ganancia_testing_normalizada <- ganancia_testing / 0.3\n",
    "\n",
    "  return(ganancia_testing_normalizada)\n",
    "}\n",
    " "
   ]
  },
  {
   "cell_type": "code",
   "execution_count": 28,
   "metadata": {
    "vscode": {
     "languageId": "r"
    }
   },
   "outputs": [
    {
     "data": {
      "text/html": [
       "<table>\n",
       "<thead><tr><th scope=col>numero_de_cliente</th><th scope=col>foto_mes</th><th scope=col>active_quarter</th><th scope=col>cliente_vip</th><th scope=col>internet</th><th scope=col>cliente_edad</th><th scope=col>cliente_antiguedad</th><th scope=col>mrentabilidad</th><th scope=col>mrentabilidad_annual</th><th scope=col>mcomisiones</th><th scope=col>...</th><th scope=col>Visa_fultimo_cierre</th><th scope=col>Visa_mpagado</th><th scope=col>Visa_mpagospesos</th><th scope=col>Visa_mpagosdolares</th><th scope=col>Visa_fechaalta</th><th scope=col>Visa_mconsumototal</th><th scope=col>Visa_cconsumos</th><th scope=col>Visa_cadelantosefectivo</th><th scope=col>Visa_mpagominimo</th><th scope=col>clase_ternaria</th></tr></thead>\n",
       "<tbody>\n",
       "\t<tr><td>29183733 </td><td>202107   </td><td>1        </td><td>0        </td><td>0        </td><td>46       </td><td> 99      </td><td>2016.19  </td><td>32146.69 </td><td>1099.10  </td><td>...      </td><td> 3       </td><td>0        </td><td>-27151.97</td><td>0        </td><td>2995     </td><td>10011.78 </td><td> 6       </td><td>0        </td><td> 2498.49 </td><td>CONTINUA </td></tr>\n",
       "\t<tr><td>29184468 </td><td>202107   </td><td>1        </td><td>0        </td><td>0        </td><td>42       </td><td>284      </td><td>1633.70  </td><td>13781.99 </td><td> 602.61  </td><td>...      </td><td>10       </td><td>0        </td><td>-19268.21</td><td>0        </td><td>5722     </td><td>15138.18 </td><td> 9       </td><td>0        </td><td> 3178.83 </td><td>CONTINUA </td></tr>\n",
       "\t<tr><td>29185245 </td><td>202107   </td><td>1        </td><td>0        </td><td>0        </td><td>55       </td><td> 23      </td><td>3759.73  </td><td>24296.95 </td><td>2829.38  </td><td>...      </td><td> 3       </td><td>0        </td><td> -8211.00</td><td>0        </td><td> 758     </td><td>58080.27 </td><td>10       </td><td>0        </td><td>26240.01 </td><td>CONTINUA </td></tr>\n",
       "</tbody>\n",
       "</table>\n"
      ],
      "text/latex": [
       "\\begin{tabular}{r|lllllllllllllllllllllllllllllllllllllllllllllllllllllllllllllllllllllllllllllllllllllllllllllllllllllllllllllllllllllllllllllllllllllllllllllllllllllllllll}\n",
       " numero\\_de\\_cliente & foto\\_mes & active\\_quarter & cliente\\_vip & internet & cliente\\_edad & cliente\\_antiguedad & mrentabilidad & mrentabilidad\\_annual & mcomisiones & ... & Visa\\_fultimo\\_cierre & Visa\\_mpagado & Visa\\_mpagospesos & Visa\\_mpagosdolares & Visa\\_fechaalta & Visa\\_mconsumototal & Visa\\_cconsumos & Visa\\_cadelantosefectivo & Visa\\_mpagominimo & clase\\_ternaria\\\\\n",
       "\\hline\n",
       "\t 29183733  & 202107    & 1         & 0         & 0         & 46        &  99       & 2016.19   & 32146.69  & 1099.10   & ...       &  3        & 0         & -27151.97 & 0         & 2995      & 10011.78  &  6        & 0         &  2498.49  & CONTINUA \\\\\n",
       "\t 29184468  & 202107    & 1         & 0         & 0         & 42        & 284       & 1633.70   & 13781.99  &  602.61   & ...       & 10        & 0         & -19268.21 & 0         & 5722      & 15138.18  &  9        & 0         &  3178.83  & CONTINUA \\\\\n",
       "\t 29185245  & 202107    & 1         & 0         & 0         & 55        &  23       & 3759.73   & 24296.95  & 2829.38   & ...       &  3        & 0         &  -8211.00 & 0         &  758      & 58080.27  & 10        & 0         & 26240.01  & CONTINUA \\\\\n",
       "\\end{tabular}\n"
      ],
      "text/markdown": [
       "\n",
       "| numero_de_cliente | foto_mes | active_quarter | cliente_vip | internet | cliente_edad | cliente_antiguedad | mrentabilidad | mrentabilidad_annual | mcomisiones | ... | Visa_fultimo_cierre | Visa_mpagado | Visa_mpagospesos | Visa_mpagosdolares | Visa_fechaalta | Visa_mconsumototal | Visa_cconsumos | Visa_cadelantosefectivo | Visa_mpagominimo | clase_ternaria |\n",
       "|---|---|---|---|---|---|---|---|---|---|---|---|---|---|---|---|---|---|---|---|---|\n",
       "| 29183733  | 202107    | 1         | 0         | 0         | 46        |  99       | 2016.19   | 32146.69  | 1099.10   | ...       |  3        | 0         | -27151.97 | 0         | 2995      | 10011.78  |  6        | 0         |  2498.49  | CONTINUA  |\n",
       "| 29184468  | 202107    | 1         | 0         | 0         | 42        | 284       | 1633.70   | 13781.99  |  602.61   | ...       | 10        | 0         | -19268.21 | 0         | 5722      | 15138.18  |  9        | 0         |  3178.83  | CONTINUA  |\n",
       "| 29185245  | 202107    | 1         | 0         | 0         | 55        |  23       | 3759.73   | 24296.95  | 2829.38   | ...       |  3        | 0         |  -8211.00 | 0         |  758      | 58080.27  | 10        | 0         | 26240.01  | CONTINUA  |\n",
       "\n"
      ],
      "text/plain": [
       "  numero_de_cliente foto_mes active_quarter cliente_vip internet cliente_edad\n",
       "1 29183733          202107   1              0           0        46          \n",
       "2 29184468          202107   1              0           0        42          \n",
       "3 29185245          202107   1              0           0        55          \n",
       "  cliente_antiguedad mrentabilidad mrentabilidad_annual mcomisiones ...\n",
       "1  99                2016.19       32146.69             1099.10     ...\n",
       "2 284                1633.70       13781.99              602.61     ...\n",
       "3  23                3759.73       24296.95             2829.38     ...\n",
       "  Visa_fultimo_cierre Visa_mpagado Visa_mpagospesos Visa_mpagosdolares\n",
       "1  3                  0            -27151.97        0                 \n",
       "2 10                  0            -19268.21        0                 \n",
       "3  3                  0             -8211.00        0                 \n",
       "  Visa_fechaalta Visa_mconsumototal Visa_cconsumos Visa_cadelantosefectivo\n",
       "1 2995           10011.78            6             0                      \n",
       "2 5722           15138.18            9             0                      \n",
       "3  758           58080.27           10             0                      \n",
       "  Visa_mpagominimo clase_ternaria\n",
       "1  2498.49         CONTINUA      \n",
       "2  3178.83         CONTINUA      \n",
       "3 26240.01         CONTINUA      "
      ]
     },
     "metadata": {},
     "output_type": "display_data"
    }
   ],
   "source": [
    "#dataset <- fread(\"./datasets/dataset_pequeno.csv\") # cargo el dataset #cargo el dataset\n",
    "dataset <- dataset[foto_mes == 202107] # me quedo solo con el periodo 202107\n",
    "head(dataset, 3)\n"
   ]
  },
  {
   "cell_type": "code",
   "execution_count": 29,
   "metadata": {
    "vscode": {
     "languageId": "r"
    }
   },
   "outputs": [],
   "source": [
    "# defino unos buenos hiperparametros\n",
    "param <- list(\n",
    "    \"cp\" = -0.5,\n",
    "    \"minsplit\" = 900,\n",
    "    \"minbucket\" = 440,\n",
    "    \"maxdepth\" = 5\n",
    ")\n"
   ]
  },
  {
   "cell_type": "code",
   "execution_count": 30,
   "metadata": {
    "vscode": {
     "languageId": "r"
    }
   },
   "outputs": [],
   "source": [
    "# defino el vector de semillas\n"
   ]
  },
  {
   "cell_type": "code",
   "execution_count": 31,
   "metadata": {
    "vscode": {
     "languageId": "r"
    }
   },
   "outputs": [],
   "source": [
    "ksemillas <- c(100297, 422573, 492641, 301039, 723721) # reemplazar por las propias semillas\n"
   ]
  },
  {
   "cell_type": "code",
   "execution_count": 32,
   "metadata": {
    "vscode": {
     "languageId": "r"
    }
   },
   "outputs": [],
   "source": [
    "vector_ganancias <- c() # vector donde voy a ir acumulando las ganancias\n"
   ]
  },
  {
   "cell_type": "code",
   "execution_count": 33,
   "metadata": {
    "vscode": {
     "languageId": "r"
    }
   },
   "outputs": [],
   "source": [
    "for (semilla in ksemillas)\n",
    "{\n",
    "    ganancia <- GananciaArbol(semilla, dataset, x = param, train = 0.70)\n",
    "    vector_ganancias <- c(vector_ganancias, ganancia)\n",
    "}\n"
   ]
  },
  {
   "attachments": {},
   "cell_type": "markdown",
   "metadata": {},
   "source": [
    "veo que tiene  vector_ganancias"
   ]
  },
  {
   "cell_type": "code",
   "execution_count": 34,
   "metadata": {
    "vscode": {
     "languageId": "r"
    }
   },
   "outputs": [
    {
     "data": {
      "text/html": [
       "<ol class=list-inline>\n",
       "\t<li>48620000</li>\n",
       "\t<li>50780000</li>\n",
       "\t<li>52100000</li>\n",
       "\t<li>44070000</li>\n",
       "\t<li>52480000</li>\n",
       "</ol>\n"
      ],
      "text/latex": [
       "\\begin{enumerate*}\n",
       "\\item 48620000\n",
       "\\item 50780000\n",
       "\\item 52100000\n",
       "\\item 44070000\n",
       "\\item 52480000\n",
       "\\end{enumerate*}\n"
      ],
      "text/markdown": [
       "1. 48620000\n",
       "2. 50780000\n",
       "3. 52100000\n",
       "4. 44070000\n",
       "5. 52480000\n",
       "\n",
       "\n"
      ],
      "text/plain": [
       "[1] 48620000 50780000 52100000 44070000 52480000"
      ]
     },
     "metadata": {},
     "output_type": "display_data"
    }
   ],
   "source": [
    "vector_ganancias\n"
   ]
  },
  {
   "attachments": {},
   "cell_type": "markdown",
   "metadata": {},
   "source": [
    "Calculo la media de  vector_ganancias"
   ]
  },
  {
   "cell_type": "code",
   "execution_count": 35,
   "metadata": {
    "vscode": {
     "languageId": "r"
    }
   },
   "outputs": [
    {
     "data": {
      "text/html": [
       "49610000"
      ],
      "text/latex": [
       "49610000"
      ],
      "text/markdown": [
       "49610000"
      ],
      "text/plain": [
       "[1] 49610000"
      ]
     },
     "metadata": {},
     "output_type": "display_data"
    }
   ],
   "source": [
    "mean(vector_ganancias)\n"
   ]
  },
  {
   "cell_type": "code",
   "execution_count": null,
   "metadata": {},
   "outputs": [],
   "source": []
  }
 ],
 "metadata": {
  "kernelspec": {
   "display_name": "R",
   "language": "R",
   "name": "ir"
  },
  "language_info": {
   "codemirror_mode": "r",
   "file_extension": ".r",
   "mimetype": "text/x-r-source",
   "name": "R",
   "pygments_lexer": "r",
   "version": "3.6.1"
  }
 },
 "nbformat": 4,
 "nbformat_minor": 4
}
