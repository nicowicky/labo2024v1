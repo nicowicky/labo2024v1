{
 "cells": [
  {
   "attachments": {},
   "cell_type": "markdown",
   "metadata": {},
   "source": [
    "# Zero to Hero"
   ]
  },
  {
   "attachments": {},
   "cell_type": "markdown",
   "metadata": {},
   "source": [
    "## 1.07 Aplicando el arbol"
   ]
  },
  {
   "attachments": {},
   "cell_type": "markdown",
   "metadata": {},
   "source": [
    "Se aplicará el modelo generado por rpart a los datos nuevos y se genera la salida para Kaggle"
   ]
  },
  {
   "cell_type": "code",
   "execution_count": 1,
   "metadata": {
    "tags": [],
    "vscode": {
     "languageId": "r"
    }
   },
   "outputs": [
    {
     "data": {
      "text/html": [
       "<table>\n",
       "<thead><tr><th></th><th scope=col>used</th><th scope=col>(Mb)</th><th scope=col>gc trigger</th><th scope=col>(Mb)</th><th scope=col>max used</th><th scope=col>(Mb)</th></tr></thead>\n",
       "<tbody>\n",
       "\t<tr><th scope=row>Ncells</th><td>507983 </td><td>27.2   </td><td>1140424</td><td>61     </td><td> 621911</td><td>33.3   </td></tr>\n",
       "\t<tr><th scope=row>Vcells</th><td>938206 </td><td> 7.2   </td><td>8388608</td><td>64     </td><td>1601936</td><td>12.3   </td></tr>\n",
       "</tbody>\n",
       "</table>\n"
      ],
      "text/latex": [
       "\\begin{tabular}{r|llllll}\n",
       "  & used & (Mb) & gc trigger & (Mb) & max used & (Mb)\\\\\n",
       "\\hline\n",
       "\tNcells & 507983  & 27.2    & 1140424 & 61      &  621911 & 33.3   \\\\\n",
       "\tVcells & 938206  &  7.2    & 8388608 & 64      & 1601936 & 12.3   \\\\\n",
       "\\end{tabular}\n"
      ],
      "text/markdown": [
       "\n",
       "| <!--/--> | used | (Mb) | gc trigger | (Mb) | max used | (Mb) |\n",
       "|---|---|---|---|---|---|---|\n",
       "| Ncells | 507983  | 27.2    | 1140424 | 61      |  621911 | 33.3    |\n",
       "| Vcells | 938206  |  7.2    | 8388608 | 64      | 1601936 | 12.3    |\n",
       "\n"
      ],
      "text/plain": [
       "       used   (Mb) gc trigger (Mb) max used (Mb)\n",
       "Ncells 507983 27.2 1140424    61    621911  33.3\n",
       "Vcells 938206  7.2 8388608    64   1601936  12.3"
      ]
     },
     "metadata": {},
     "output_type": "display_data"
    }
   ],
   "source": [
    "rm(list = ls())\n",
    "gc()\n",
    "\n",
    "library(\"data.table\") # cargo la libreria  data.table\n",
    "library(\"rpart\") # cargo la libreria  rpart\n",
    "library(\"rpart.plot\")\n",
    "\n",
    "options(repr.plot.width = 20, repr.plot.height = 10)\n",
    "#setwd(\"~/buckets/b1/\")\n"
   ]
  },
  {
   "cell_type": "code",
   "execution_count": 2,
   "metadata": {
    "tags": [],
    "vscode": {
     "languageId": "r"
    }
   },
   "outputs": [],
   "source": [
    "setwd(\"D:\\\\MAESTRIA AUSTRAL DATA SCIENCE\\\\MATERIAS\\\\2doSem\\\\Laboratorio 1\\\\datasets\") # Establezco el Working Directory\n",
    "# cargo el dataset\n",
    "dataset <- fread(\"dataset_pequeno.csv\")\n",
    "\n"
   ]
  },
  {
   "cell_type": "code",
   "execution_count": 3,
   "metadata": {
    "tags": [],
    "vscode": {
     "languageId": "r"
    }
   },
   "outputs": [],
   "source": [
    "dtrain <- dataset[foto_mes == 202107]\n",
    "dapply <- dataset[foto_mes == 202109]\n"
   ]
  },
  {
   "cell_type": "code",
   "execution_count": 4,
   "metadata": {
    "tags": [],
    "vscode": {
     "languageId": "r"
    }
   },
   "outputs": [],
   "source": [
    "# genero el modelo\n",
    "modelo <- rpart::rpart(\n",
    "    formula = \"clase_ternaria ~ .\",\n",
    "    data = dtrain,\n",
    "    xval = 0,\n",
    "    cp = -1,\n",
    "    maxdepth = 2\n",
    ")\n"
   ]
  },
  {
   "attachments": {},
   "cell_type": "markdown",
   "metadata": {},
   "source": [
    "Aplico el modelo a los datos dapply  pidiendo que me devuelva probabildades"
   ]
  },
  {
   "cell_type": "code",
   "execution_count": 5,
   "metadata": {
    "tags": [],
    "vscode": {
     "languageId": "r"
    }
   },
   "outputs": [],
   "source": [
    "prediccion <- predict(modelo, dapply, type = \"prob\")\n"
   ]
  },
  {
   "attachments": {},
   "cell_type": "markdown",
   "metadata": {},
   "source": [
    "Analizo que queda en prediccion"
   ]
  },
  {
   "cell_type": "code",
   "execution_count": 6,
   "metadata": {
    "tags": [],
    "vscode": {
     "languageId": "r"
    }
   },
   "outputs": [
    {
     "data": {
      "text/html": [
       "<table>\n",
       "<thead><tr><th scope=col>BAJA+1</th><th scope=col>BAJA+2</th><th scope=col>CONTINUA</th></tr></thead>\n",
       "<tbody>\n",
       "\t<tr><td>0.00225795 </td><td>0.002989693</td><td>0.9947524  </td></tr>\n",
       "\t<tr><td>0.00225795 </td><td>0.002989693</td><td>0.9947524  </td></tr>\n",
       "\t<tr><td>0.02345092 </td><td>0.023781213</td><td>0.9527679  </td></tr>\n",
       "\t<tr><td>0.00225795 </td><td>0.002989693</td><td>0.9947524  </td></tr>\n",
       "\t<tr><td>0.00225795 </td><td>0.002989693</td><td>0.9947524  </td></tr>\n",
       "\t<tr><td>0.00225795 </td><td>0.002989693</td><td>0.9947524  </td></tr>\n",
       "</tbody>\n",
       "</table>\n"
      ],
      "text/latex": [
       "\\begin{tabular}{r|lll}\n",
       " BAJA+1 & BAJA+2 & CONTINUA\\\\\n",
       "\\hline\n",
       "\t 0.00225795  & 0.002989693 & 0.9947524  \\\\\n",
       "\t 0.00225795  & 0.002989693 & 0.9947524  \\\\\n",
       "\t 0.02345092  & 0.023781213 & 0.9527679  \\\\\n",
       "\t 0.00225795  & 0.002989693 & 0.9947524  \\\\\n",
       "\t 0.00225795  & 0.002989693 & 0.9947524  \\\\\n",
       "\t 0.00225795  & 0.002989693 & 0.9947524  \\\\\n",
       "\\end{tabular}\n"
      ],
      "text/markdown": [
       "\n",
       "| BAJA+1 | BAJA+2 | CONTINUA |\n",
       "|---|---|---|\n",
       "| 0.00225795  | 0.002989693 | 0.9947524   |\n",
       "| 0.00225795  | 0.002989693 | 0.9947524   |\n",
       "| 0.02345092  | 0.023781213 | 0.9527679   |\n",
       "| 0.00225795  | 0.002989693 | 0.9947524   |\n",
       "| 0.00225795  | 0.002989693 | 0.9947524   |\n",
       "| 0.00225795  | 0.002989693 | 0.9947524   |\n",
       "\n"
      ],
      "text/plain": [
       "  BAJA+1     BAJA+2      CONTINUA \n",
       "1 0.00225795 0.002989693 0.9947524\n",
       "2 0.00225795 0.002989693 0.9947524\n",
       "3 0.02345092 0.023781213 0.9527679\n",
       "4 0.00225795 0.002989693 0.9947524\n",
       "5 0.00225795 0.002989693 0.9947524\n",
       "6 0.00225795 0.002989693 0.9947524"
      ]
     },
     "metadata": {},
     "output_type": "display_data"
    }
   ],
   "source": [
    "head(prediccion)\n"
   ]
  },
  {
   "attachments": {},
   "cell_type": "markdown",
   "metadata": {},
   "source": [
    "Prediccion es una matriz; me interesa la columna \"BAJA+2\"  que es la probabilidad que modelo asigna a cada registro de dapply"
   ]
  },
  {
   "cell_type": "code",
   "execution_count": 7,
   "metadata": {
    "tags": [],
    "vscode": {
     "languageId": "r"
    }
   },
   "outputs": [],
   "source": [
    "prob_baja2 <- prediccion[, \"BAJA+2\"]\n"
   ]
  },
  {
   "cell_type": "code",
   "execution_count": 8,
   "metadata": {
    "tags": [],
    "vscode": {
     "languageId": "r"
    }
   },
   "outputs": [
    {
     "data": {
      "text/html": [
       "<dl class=dl-horizontal>\n",
       "\t<dt>1</dt>\n",
       "\t\t<dd>0.00298969287700445</dd>\n",
       "\t<dt>2</dt>\n",
       "\t\t<dd>0.00298969287700445</dd>\n",
       "\t<dt>3</dt>\n",
       "\t\t<dd>0.0237812128418549</dd>\n",
       "\t<dt>4</dt>\n",
       "\t\t<dd>0.00298969287700445</dd>\n",
       "\t<dt>5</dt>\n",
       "\t\t<dd>0.00298969287700445</dd>\n",
       "\t<dt>6</dt>\n",
       "\t\t<dd>0.00298969287700445</dd>\n",
       "</dl>\n"
      ],
      "text/latex": [
       "\\begin{description*}\n",
       "\\item[1] 0.00298969287700445\n",
       "\\item[2] 0.00298969287700445\n",
       "\\item[3] 0.0237812128418549\n",
       "\\item[4] 0.00298969287700445\n",
       "\\item[5] 0.00298969287700445\n",
       "\\item[6] 0.00298969287700445\n",
       "\\end{description*}\n"
      ],
      "text/markdown": [
       "1\n",
       ":   0.002989692877004452\n",
       ":   0.002989692877004453\n",
       ":   0.02378121284185494\n",
       ":   0.002989692877004455\n",
       ":   0.002989692877004456\n",
       ":   0.00298969287700445\n",
       "\n"
      ],
      "text/plain": [
       "          1           2           3           4           5           6 \n",
       "0.002989693 0.002989693 0.023781213 0.002989693 0.002989693 0.002989693 "
      ]
     },
     "metadata": {},
     "output_type": "display_data"
    }
   ],
   "source": [
    "head(prob_baja2)\n"
   ]
  },
  {
   "attachments": {},
   "cell_type": "markdown",
   "metadata": {},
   "source": [
    "prob_baja2 es el vector de probabilidades"
   ]
  },
  {
   "cell_type": "code",
   "execution_count": 9,
   "metadata": {
    "tags": [],
    "vscode": {
     "languageId": "r"
    }
   },
   "outputs": [
    {
     "data": {
      "text/html": [
       "165093"
      ],
      "text/latex": [
       "165093"
      ],
      "text/markdown": [
       "165093"
      ],
      "text/plain": [
       "[1] 165093"
      ]
     },
     "metadata": {},
     "output_type": "display_data"
    },
    {
     "data": {
      "text/html": [
       "165093"
      ],
      "text/latex": [
       "165093"
      ],
      "text/markdown": [
       "165093"
      ],
      "text/plain": [
       "[1] 165093"
      ]
     },
     "metadata": {},
     "output_type": "display_data"
    }
   ],
   "source": [
    "length(prob_baja2)\n",
    "nrow(dapply)\n"
   ]
  },
  {
   "attachments": {},
   "cell_type": "markdown",
   "metadata": {},
   "source": [
    "Ahora decido si envio el estimulo o no\n",
    "<br>\n",
    "si prob( BAJA+2) > 0.025  envio  el estímulo"
   ]
  },
  {
   "cell_type": "code",
   "execution_count": 10,
   "metadata": {
    "tags": [],
    "vscode": {
     "languageId": "r"
    }
   },
   "outputs": [],
   "source": [
    "Predicted <- ifelse(prob_baja2 > 0.025, 1, 0)\n"
   ]
  },
  {
   "cell_type": "code",
   "execution_count": 11,
   "metadata": {
    "tags": [],
    "vscode": {
     "languageId": "r"
    }
   },
   "outputs": [
    {
     "data": {
      "text/html": [
       "<dl class=dl-horizontal>\n",
       "\t<dt>1</dt>\n",
       "\t\t<dd>0</dd>\n",
       "\t<dt>2</dt>\n",
       "\t\t<dd>0</dd>\n",
       "\t<dt>3</dt>\n",
       "\t\t<dd>0</dd>\n",
       "\t<dt>4</dt>\n",
       "\t\t<dd>0</dd>\n",
       "\t<dt>5</dt>\n",
       "\t\t<dd>0</dd>\n",
       "\t<dt>6</dt>\n",
       "\t\t<dd>0</dd>\n",
       "</dl>\n"
      ],
      "text/latex": [
       "\\begin{description*}\n",
       "\\item[1] 0\n",
       "\\item[2] 0\n",
       "\\item[3] 0\n",
       "\\item[4] 0\n",
       "\\item[5] 0\n",
       "\\item[6] 0\n",
       "\\end{description*}\n"
      ],
      "text/markdown": [
       "1\n",
       ":   02\n",
       ":   03\n",
       ":   04\n",
       ":   05\n",
       ":   06\n",
       ":   0\n",
       "\n"
      ],
      "text/plain": [
       "1 2 3 4 5 6 \n",
       "0 0 0 0 0 0 "
      ]
     },
     "metadata": {},
     "output_type": "display_data"
    }
   ],
   "source": [
    "head(Predicted)\n"
   ]
  },
  {
   "cell_type": "code",
   "execution_count": 12,
   "metadata": {
    "tags": [],
    "vscode": {
     "languageId": "r"
    }
   },
   "outputs": [
    {
     "data": {
      "image/png": "[encoded data removed]",
      "text/plain": [
       "Plot with title \"Histogram of Predicted\""
      ]
     },
     "metadata": {},
     "output_type": "display_data"
    }
   ],
   "source": [
    "hist(Predicted)\n"
   ]
  },
  {
   "attachments": {},
   "cell_type": "markdown",
   "metadata": {},
   "source": [
    "creo una tabla con  lo que voy a enviar a Kaggle"
   ]
  },
  {
   "cell_type": "code",
   "execution_count": 13,
   "metadata": {
    "tags": [],
    "vscode": {
     "languageId": "r"
    }
   },
   "outputs": [],
   "source": [
    "entrega <- as.data.table(list(\"numero_de_cliente\" = dapply$numero_de_cliente, \"Predicted\" = Predicted))\n"
   ]
  },
  {
   "cell_type": "code",
   "execution_count": 14,
   "metadata": {
    "tags": [],
    "vscode": {
     "languageId": "r"
    }
   },
   "outputs": [
    {
     "data": {
      "text/html": [
       "<table>\n",
       "<thead><tr><th scope=col>numero_de_cliente</th><th scope=col>Predicted</th></tr></thead>\n",
       "<tbody>\n",
       "\t<tr><td>29183733</td><td>0       </td></tr>\n",
       "\t<tr><td>29184468</td><td>0       </td></tr>\n",
       "\t<tr><td>29185245</td><td>0       </td></tr>\n",
       "\t<tr><td>29186441</td><td>0       </td></tr>\n",
       "\t<tr><td>29186475</td><td>0       </td></tr>\n",
       "\t<tr><td>29187730</td><td>0       </td></tr>\n",
       "</tbody>\n",
       "</table>\n"
      ],
      "text/latex": [
       "\\begin{tabular}{r|ll}\n",
       " numero\\_de\\_cliente & Predicted\\\\\n",
       "\\hline\n",
       "\t 29183733 & 0       \\\\\n",
       "\t 29184468 & 0       \\\\\n",
       "\t 29185245 & 0       \\\\\n",
       "\t 29186441 & 0       \\\\\n",
       "\t 29186475 & 0       \\\\\n",
       "\t 29187730 & 0       \\\\\n",
       "\\end{tabular}\n"
      ],
      "text/markdown": [
       "\n",
       "| numero_de_cliente | Predicted |\n",
       "|---|---|\n",
       "| 29183733 | 0        |\n",
       "| 29184468 | 0        |\n",
       "| 29185245 | 0        |\n",
       "| 29186441 | 0        |\n",
       "| 29186475 | 0        |\n",
       "| 29187730 | 0        |\n",
       "\n"
      ],
      "text/plain": [
       "  numero_de_cliente Predicted\n",
       "1 29183733          0        \n",
       "2 29184468          0        \n",
       "3 29185245          0        \n",
       "4 29186441          0        \n",
       "5 29186475          0        \n",
       "6 29187730          0        "
      ]
     },
     "metadata": {},
     "output_type": "display_data"
    }
   ],
   "source": [
    "head(entrega)\n"
   ]
  },
  {
   "cell_type": "code",
   "execution_count": 15,
   "metadata": {
    "tags": [],
    "vscode": {
     "languageId": "r"
    }
   },
   "outputs": [
    {
     "data": {
      "text/html": [
       "<table>\n",
       "<thead><tr><th scope=col>Predicted</th><th scope=col>N</th></tr></thead>\n",
       "<tbody>\n",
       "\t<tr><td>0     </td><td>160114</td></tr>\n",
       "\t<tr><td>1     </td><td>  4979</td></tr>\n",
       "</tbody>\n",
       "</table>\n"
      ],
      "text/latex": [
       "\\begin{tabular}{r|ll}\n",
       " Predicted & N\\\\\n",
       "\\hline\n",
       "\t 0      & 160114\\\\\n",
       "\t 1      &   4979\\\\\n",
       "\\end{tabular}\n"
      ],
      "text/markdown": [
       "\n",
       "| Predicted | N |\n",
       "|---|---|\n",
       "| 0      | 160114 |\n",
       "| 1      |   4979 |\n",
       "\n"
      ],
      "text/plain": [
       "  Predicted N     \n",
       "1 0         160114\n",
       "2 1           4979"
      ]
     },
     "metadata": {},
     "output_type": "display_data"
    }
   ],
   "source": [
    "entrega[, .N, Predicted]\n"
   ]
  },
  {
   "attachments": {},
   "cell_type": "markdown",
   "metadata": {},
   "source": [
    "Esto significa que se enviaran 4979 estímulos"
   ]
  },
  {
   "cell_type": "code",
   "execution_count": 17,
   "metadata": {
    "tags": [],
    "vscode": {
     "languageId": "r"
    }
   },
   "outputs": [],
   "source": [
    "# genero el archivo para Kaggle\n",
    "# creo la carpeta donde va el experimento\n",
    "dir.create(\"./exp/\", showWarnings = FALSE)\n",
    "dir.create(\"./exp/ZH2017/\", showWarnings = FALSE)\n",
    "\n",
    "fwrite(entrega,\n",
    "        file = \"D:/ para_Kaggle_0107.csv\",\n",
    "        sep = \",\"\n",
    ")\n"
   ]
  },
  {
   "cell_type": "markdown",
   "metadata": {},
   "source": [
    "## En el PL de Kaggle, 23.099"
   ]
  },
  {
   "cell_type": "code",
   "execution_count": null,
   "metadata": {},
   "outputs": [],
   "source": []
  }
 ],
 "metadata": {
  "kernelspec": {
   "display_name": "R",
   "language": "R",
   "name": "ir"
  },
  "language_info": {
   "codemirror_mode": "r",
   "file_extension": ".r",
   "mimetype": "text/x-r-source",
   "name": "R",
   "pygments_lexer": "r",
   "version": "3.6.1"
  }
 },
 "nbformat": 4,
 "nbformat_minor": 4
}
