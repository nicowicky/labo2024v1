{
 "cells": [
  {
   "attachments": {},
   "cell_type": "markdown",
   "metadata": {},
   "source": [
    "# Zero to Hero"
   ]
  },
  {
   "attachments": {},
   "cell_type": "markdown",
   "metadata": {},
   "source": [
    "## 1.08 Unos buenos hiperparametros"
   ]
  },
  {
   "attachments": {},
   "cell_type": "markdown",
   "metadata": {},
   "source": [
    "Se aplicará el modelo generado por rpart a los datos nuevos y se genera la salida para Kaggle"
   ]
  },
  {
   "cell_type": "code",
   "execution_count": 1,
   "metadata": {
    "tags": [],
    "vscode": {
     "languageId": "r"
    }
   },
   "outputs": [
    {
     "data": {
      "text/html": [
       "<table>\n",
       "<thead><tr><th></th><th scope=col>used</th><th scope=col>(Mb)</th><th scope=col>gc trigger</th><th scope=col>(Mb)</th><th scope=col>max used</th><th scope=col>(Mb)</th></tr></thead>\n",
       "<tbody>\n",
       "\t<tr><th scope=row>Ncells</th><td>507995 </td><td>27.2   </td><td>1140458</td><td>61     </td><td> 621911</td><td>33.3   </td></tr>\n",
       "\t<tr><th scope=row>Vcells</th><td>938254 </td><td> 7.2   </td><td>8388608</td><td>64     </td><td>1601936</td><td>12.3   </td></tr>\n",
       "</tbody>\n",
       "</table>\n"
      ],
      "text/latex": [
       "\\begin{tabular}{r|llllll}\n",
       "  & used & (Mb) & gc trigger & (Mb) & max used & (Mb)\\\\\n",
       "\\hline\n",
       "\tNcells & 507995  & 27.2    & 1140458 & 61      &  621911 & 33.3   \\\\\n",
       "\tVcells & 938254  &  7.2    & 8388608 & 64      & 1601936 & 12.3   \\\\\n",
       "\\end{tabular}\n"
      ],
      "text/markdown": [
       "\n",
       "| <!--/--> | used | (Mb) | gc trigger | (Mb) | max used | (Mb) |\n",
       "|---|---|---|---|---|---|---|\n",
       "| Ncells | 507995  | 27.2    | 1140458 | 61      |  621911 | 33.3    |\n",
       "| Vcells | 938254  |  7.2    | 8388608 | 64      | 1601936 | 12.3    |\n",
       "\n"
      ],
      "text/plain": [
       "       used   (Mb) gc trigger (Mb) max used (Mb)\n",
       "Ncells 507995 27.2 1140458    61    621911  33.3\n",
       "Vcells 938254  7.2 8388608    64   1601936  12.3"
      ]
     },
     "metadata": {},
     "output_type": "display_data"
    },
    {
     "ename": "ERROR",
     "evalue": "Error in setwd(\"~/buckets/b1/\"): no es posible cambiar el directorio de trabajo\n",
     "output_type": "error",
     "traceback": [
      "Error in setwd(\"~/buckets/b1/\"): no es posible cambiar el directorio de trabajo\nTraceback:\n",
      "1. setwd(\"~/buckets/b1/\")"
     ]
    }
   ],
   "source": [
    "rm(list = ls())\n",
    "gc()\n",
    "\n",
    "library(\"data.table\") # cargo la libreria  data.table\n",
    "library(\"rpart\") # cargo la libreria  rpart\n",
    "library(\"rpart.plot\")\n",
    "\n",
    "options(repr.plot.width = 20, repr.plot.height = 10)\n",
    "setwd(\"~/buckets/b1/\")\n"
   ]
  },
  {
   "cell_type": "code",
   "execution_count": 13,
   "metadata": {
    "tags": [],
    "vscode": {
     "languageId": "r"
    }
   },
   "outputs": [],
   "source": [
    "setwd(\"D:\\\\MAESTRIA AUSTRAL DATA SCIENCE\\\\MATERIAS\\\\2doSem\\\\Laboratorio 1\\\\datasets\") # Establezco el Working Directory\n",
    "# cargo el dataset\n",
    "dataset <- fread(\"dataset_pequeno.csv\")\n",
    "\n",
    "dtrain <- dataset[foto_mes == 202107]\n",
    "dapply <- dataset[foto_mes == 202109]\n"
   ]
  },
  {
   "attachments": {},
   "cell_type": "markdown",
   "metadata": {},
   "source": [
    "defino unos parametros interesantes\n",
    "<br>\n",
    "los hiperparametros van en una lista\n",
    "<br>\n",
    "notar la forma en que esos parametros se pasan a la funcion rpart"
   ]
  },
  {
   "cell_type": "code",
   "execution_count": 14,
   "metadata": {
    "tags": [],
    "vscode": {
     "languageId": "r"
    }
   },
   "outputs": [],
   "source": [
    "param <- list(\n",
    "    \"cp\" = -0.5,\n",
    "    \"minsplit\" = 900,\n",
    "    \"minbucket\" = 440,\n",
    "    \"maxdepth\" = 5\n",
    ")\n"
   ]
  },
  {
   "cell_type": "code",
   "execution_count": 15,
   "metadata": {
    "tags": [],
    "vscode": {
     "languageId": "r"
    }
   },
   "outputs": [],
   "source": [
    "# genero el modelo\n",
    "modelo <- rpart::rpart(\n",
    "    formula = \"clase_ternaria ~ .\",\n",
    "    data = dtrain,\n",
    "    xval = 0,\n",
    "    control = param\n",
    ")\n"
   ]
  },
  {
   "attachments": {},
   "cell_type": "markdown",
   "metadata": {},
   "source": [
    "Aplico el modelo a los datos dapply  pidiendo que me devuelva probabildades"
   ]
  },
  {
   "cell_type": "code",
   "execution_count": 16,
   "metadata": {
    "tags": [],
    "vscode": {
     "languageId": "r"
    }
   },
   "outputs": [],
   "source": [
    "prediccion <- predict(modelo, dapply, type = \"prob\")\n"
   ]
  },
  {
   "attachments": {},
   "cell_type": "markdown",
   "metadata": {},
   "source": [
    "Genero la salida"
   ]
  },
  {
   "cell_type": "code",
   "execution_count": 17,
   "metadata": {
    "tags": [],
    "vscode": {
     "languageId": "r"
    }
   },
   "outputs": [],
   "source": [
    "prob_baja2 <- prediccion[, \"BAJA+2\"]\n",
    "Predicted <- ifelse(prob_baja2 > 0.025, 1, 0) # 0.025 es la probabilidad de corte\n",
    "\n",
    "entrega <- as.data.table(list(\"numero_de_cliente\" = dapply$numero_de_cliente, \"Predicted\" = Predicted))\n",
    "\n",
    "# creo la carpeta donde va el experimento\n",
    "dir.create(\"./exp/\", showWarnings = FALSE)\n",
    "dir.create(\"./exp/ZH2018/\", showWarnings = FALSE)\n",
    "\n",
    "# genero el archivo para Kaggle\n",
    "fwrite(entrega,\n",
    "        file = \"D:/para_Kaggle_0108.csv\",\n",
    "        sep = \",\"\n",
    ")\n"
   ]
  },
  {
   "attachments": {},
   "cell_type": "markdown",
   "metadata": {},
   "source": [
    "¿Cuánto le da la ganancia en el Public Leaderboard?"
   ]
  },
  {
   "cell_type": "markdown",
   "metadata": {},
   "source": [
    "## el valor en el PL es de 49.217"
   ]
  },
  {
   "cell_type": "code",
   "execution_count": null,
   "metadata": {},
   "outputs": [],
   "source": []
  }
 ],
 "metadata": {
  "kernelspec": {
   "display_name": "R",
   "language": "R",
   "name": "ir"
  },
  "language_info": {
   "codemirror_mode": "r",
   "file_extension": ".r",
   "mimetype": "text/x-r-source",
   "name": "R",
   "pygments_lexer": "r",
   "version": "3.6.1"
  }
 },
 "nbformat": 4,
 "nbformat_minor": 4
}
