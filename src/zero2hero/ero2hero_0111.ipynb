{
 "cells": [
  {
   "attachments": {},
   "cell_type": "markdown",
   "metadata": {},
   "source": [
    "# Zero to Hero"
   ]
  },
  {
   "attachments": {},
   "cell_type": "markdown",
   "metadata": {},
   "source": [
    "## 1.11 Arbol training/testing"
   ]
  },
  {
   "attachments": {},
   "cell_type": "markdown",
   "metadata": {},
   "source": [
    "El objetivo es calcular la ganancia en testing de un arbol de decision"
   ]
  },
  {
   "cell_type": "code",
   "execution_count": 1,
   "metadata": {
    "tags": [],
    "vscode": {
     "languageId": "r"
    }
   },
   "outputs": [
    {
     "data": {
      "text/html": [
       "<table>\n",
       "<thead><tr><th></th><th scope=col>used</th><th scope=col>(Mb)</th><th scope=col>gc trigger</th><th scope=col>(Mb)</th><th scope=col>max used</th><th scope=col>(Mb)</th></tr></thead>\n",
       "<tbody>\n",
       "\t<tr><th scope=row>Ncells</th><td>507994 </td><td>27.2   </td><td>1140455</td><td>61     </td><td> 621911</td><td>33.3   </td></tr>\n",
       "\t<tr><th scope=row>Vcells</th><td>938265 </td><td> 7.2   </td><td>8388608</td><td>64     </td><td>1601936</td><td>12.3   </td></tr>\n",
       "</tbody>\n",
       "</table>\n"
      ],
      "text/latex": [
       "\\begin{tabular}{r|llllll}\n",
       "  & used & (Mb) & gc trigger & (Mb) & max used & (Mb)\\\\\n",
       "\\hline\n",
       "\tNcells & 507994  & 27.2    & 1140455 & 61      &  621911 & 33.3   \\\\\n",
       "\tVcells & 938265  &  7.2    & 8388608 & 64      & 1601936 & 12.3   \\\\\n",
       "\\end{tabular}\n"
      ],
      "text/markdown": [
       "\n",
       "| <!--/--> | used | (Mb) | gc trigger | (Mb) | max used | (Mb) |\n",
       "|---|---|---|---|---|---|---|\n",
       "| Ncells | 507994  | 27.2    | 1140455 | 61      |  621911 | 33.3    |\n",
       "| Vcells | 938265  |  7.2    | 8388608 | 64      | 1601936 | 12.3    |\n",
       "\n"
      ],
      "text/plain": [
       "       used   (Mb) gc trigger (Mb) max used (Mb)\n",
       "Ncells 507994 27.2 1140455    61    621911  33.3\n",
       "Vcells 938265  7.2 8388608    64   1601936  12.3"
      ]
     },
     "metadata": {},
     "output_type": "display_data"
    },
    {
     "name": "stderr",
     "output_type": "stream",
     "text": [
      "Loading required package: lattice\n",
      "Loading required package: ggplot2\n",
      "Registered S3 methods overwritten by 'ggplot2':\n",
      "  method         from \n",
      "  [.quosures     rlang\n",
      "  c.quosures     rlang\n",
      "  print.quosures rlang\n"
     ]
    }
   ],
   "source": [
    "rm(list = ls())\n",
    "gc()\n",
    "\n",
    "library(\"data.table\") # cargo la libreria  data.table\n",
    "library(\"rpart\") # cargo la libreria  rpart\n",
    "library(\"rpart.plot\")\n",
    "library(\"caret\")\n",
    "\n",
    "options(repr.plot.width = 20, repr.plot.height = 10)\n",
    "#setwd(\"~/buckets/b1/\")\n"
   ]
  },
  {
   "cell_type": "code",
   "execution_count": 2,
   "metadata": {
    "tags": [],
    "vscode": {
     "languageId": "r"
    }
   },
   "outputs": [],
   "source": [
    "setwd(\"D:\\\\MAESTRIA AUSTRAL DATA SCIENCE\\\\MATERIAS\\\\2doSem\\\\Laboratorio 1\\\\datasets\") # Establezco el Working Directory\n",
    "# cargo el dataset\n",
    "dataset <- fread(\"dataset_pequeno.csv\")\n",
    "dataset <- dataset[foto_mes == 202107] # me quedo solo con el periodo 202107\n"
   ]
  },
  {
   "cell_type": "code",
   "execution_count": 3,
   "metadata": {
    "tags": [],
    "vscode": {
     "languageId": "r"
    }
   },
   "outputs": [],
   "source": [
    "# creo training con 70%  y testing con 30%\n",
    "set.seed(13)\n",
    "train_rows <- createDataPartition(dataset$clase_ternaria, p = 0.70, list = FALSE)\n",
    "dtrain <- dataset[train_rows]\n",
    "dtest <- dataset[-train_rows]\n"
   ]
  },
  {
   "attachments": {},
   "cell_type": "markdown",
   "metadata": {},
   "source": [
    "Entreno el modelo en los datos de training"
   ]
  },
  {
   "cell_type": "code",
   "execution_count": 4,
   "metadata": {
    "tags": [],
    "vscode": {
     "languageId": "r"
    }
   },
   "outputs": [],
   "source": [
    "param <- list(\n",
    "    \"cp\" = -0.5,\n",
    "    \"minsplit\" = 900,\n",
    "    \"minbucket\" = 440,\n",
    "    \"maxdepth\" = 5\n",
    ")\n"
   ]
  },
  {
   "attachments": {},
   "cell_type": "markdown",
   "metadata": {},
   "source": [
    "Entreno el modelo en los datos de training"
   ]
  },
  {
   "cell_type": "code",
   "execution_count": 5,
   "metadata": {
    "tags": [],
    "vscode": {
     "languageId": "r"
    }
   },
   "outputs": [],
   "source": [
    "# genero el modelo\n",
    "modelo <- rpart::rpart(\n",
    "    formula = \"clase_ternaria ~ .\",\n",
    "    data = dtrain,\n",
    "    xval = 0,\n",
    "    control = param\n",
    ")\n"
   ]
  },
  {
   "attachments": {},
   "cell_type": "markdown",
   "metadata": {},
   "source": [
    "aplico el modelo a los datos de testing"
   ]
  },
  {
   "cell_type": "code",
   "execution_count": 6,
   "metadata": {
    "tags": [],
    "vscode": {
     "languageId": "r"
    }
   },
   "outputs": [],
   "source": [
    "prediccion <- predict(modelo, dtest, type = \"prob\")\n"
   ]
  },
  {
   "attachments": {},
   "cell_type": "markdown",
   "metadata": {},
   "source": [
    "### Calculo la ganancia del modelo en los datos de testing"
   ]
  },
  {
   "attachments": {},
   "cell_type": "markdown",
   "metadata": {},
   "source": [
    "a partir de la prediccion, calculo la probabilidad de BAJA+2 de cada registro de testing  **dtest**"
   ]
  },
  {
   "cell_type": "code",
   "execution_count": 7,
   "metadata": {
    "tags": [],
    "vscode": {
     "languageId": "r"
    }
   },
   "outputs": [],
   "source": [
    "prob_baja2 <- prediccion[, \"BAJA+2\"]\n"
   ]
  },
  {
   "attachments": {},
   "cell_type": "markdown",
   "metadata": {},
   "source": [
    "Para el cálculo de la ganancia del modelo aplicado a testing debo tener en cuenta lo siguiente\n",
    "* Solo envio estimulo a los registros que el modelo asigno una probabilidad mayor a 0.025\n",
    "* Si no envio estimulo, no gano ni pierdo, es decir la ganacia es cero\n",
    "* Si el registro al que envio el estímulo es un **BAJA+2**  entonces la ganancia es de +117000\n",
    "* Si el registro al que envio el estímulo es un **BAJA+1**  entonces la ganancia es de  -3000\n",
    "* Si el registro al que envio el estímulo es un **CONTINUA** entonces la ganancia es de  -3000"
   ]
  },
  {
   "attachments": {},
   "cell_type": "markdown",
   "metadata": {},
   "source": [
    "##### A la condición que solo envio a los registros con probabilidad mayor a 1/40 la resuelvo con la condicion lógica  (prob_baja2> 0.025)\n",
    "<br>\n",
    "Esta condicion termina siendo un 0 o un 1\n",
    "<br>\n",
    "vale 1 si y solo si se cumple la condicion, es decir  si prob_baja2 es mayor a 0.025"
   ]
  },
  {
   "attachments": {},
   "cell_type": "markdown",
   "metadata": {},
   "source": [
    "### La ganancia de +117000 o -3000 la resuelvo de esta forma ifelse( clase_ternaria==\"BAJA+2\", 117000, -3000)"
   ]
  },
  {
   "attachments": {},
   "cell_type": "markdown",
   "metadata": {},
   "source": [
    "Finalmente,  que se cumplan ambas condiciones al mismo tiempo, en este caso, es multiplicarlas, o sea\n",
    "<br>\n",
    "(prob_baja2> 0.025) * ifelse( clase_ternaria==\"BAJA+2\", 117000, -3000)\n",
    "<br>\n",
    "La condicion anterior toma los siguientes valores"
   ]
  },
  {
   "attachments": {},
   "cell_type": "markdown",
   "metadata": {},
   "source": [
    "| prob(BAJA+2) | clase_ternaria | ganancia |\n",
    "| --- | :---: | ---: |\n",
    "| menor o igual a 0.025 | BAJA+1 | 0 |\n",
    "| menor o igual a 0.025 | CONTINUA | 0 |\n",
    "| menor o igual a 0.025 | BAJA+2 | 0 |\n",
    "| mayor a 0.025 | BAJA+1 | -3000 |\n",
    "| mayor a 0.025 | CONTINUA | -3000 |\n",
    "| mayor a 0.025 | BAJA+2 | 117000 |\n"
   ]
  },
  {
   "attachments": {},
   "cell_type": "markdown",
   "metadata": {},
   "source": [
    "Finalmente hago el calculo en data.table"
   ]
  },
  {
   "cell_type": "code",
   "execution_count": 8,
   "metadata": {
    "tags": [],
    "vscode": {
     "languageId": "r"
    }
   },
   "outputs": [],
   "source": [
    "ganancia_testing <- dtest[, sum((prob_baja2 > 0.025) * ifelse(clase_ternaria == \"BAJA+2\", 117000, -3000))]\n"
   ]
  },
  {
   "cell_type": "code",
   "execution_count": 9,
   "metadata": {
    "tags": [],
    "vscode": {
     "languageId": "r"
    }
   },
   "outputs": [
    {
     "data": {
      "text/html": [
       "16092000"
      ],
      "text/latex": [
       "16092000"
      ],
      "text/markdown": [
       "16092000"
      ],
      "text/plain": [
       "[1] 16092000"
      ]
     },
     "metadata": {},
     "output_type": "display_data"
    }
   ],
   "source": [
    "ganancia_testing\n"
   ]
  },
  {
   "attachments": {},
   "cell_type": "markdown",
   "metadata": {},
   "source": [
    "Es importante que la ganancia esta calculada sobre los datos de testing, que en este caso son apenas el 30%\n",
    "<br>\n",
    "Si quiero extrapolar a todo el dataset, debo hacer el **cociente** de esa ganancia por 0.30   ( coloquialmente, debo dividir por 0.30 )"
   ]
  },
  {
   "cell_type": "code",
   "execution_count": 10,
   "metadata": {
    "tags": [],
    "vscode": {
     "languageId": "r"
    }
   },
   "outputs": [],
   "source": [
    "ganancia_testing_normalizada <- ganancia_testing / 0.3\n"
   ]
  },
  {
   "cell_type": "code",
   "execution_count": 11,
   "metadata": {
    "tags": [],
    "vscode": {
     "languageId": "r"
    }
   },
   "outputs": [
    {
     "data": {
      "text/html": [
       "53640000"
      ],
      "text/latex": [
       "53640000"
      ],
      "text/markdown": [
       "53640000"
      ],
      "text/plain": [
       "[1] 53640000"
      ]
     },
     "metadata": {},
     "output_type": "display_data"
    }
   ],
   "source": [
    "ganancia_testing_normalizada\n"
   ]
  }
 ],
 "metadata": {
  "kernelspec": {
   "display_name": "R",
   "language": "R",
   "name": "ir"
  },
  "language_info": {
   "codemirror_mode": "r",
   "file_extension": ".r",
   "mimetype": "text/x-r-source",
   "name": "R",
   "pygments_lexer": "r",
   "version": "3.6.1"
  }
 },
 "nbformat": 4,
 "nbformat_minor": 4
}
