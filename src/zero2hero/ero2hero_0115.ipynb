{
 "cells": [
  {
   "attachments": {},
   "cell_type": "markdown",
   "metadata": {},
   "source": [
    "# Zero to Hero"
   ]
  },
  {
   "attachments": {},
   "cell_type": "markdown",
   "metadata": {
    "jupyter": {
     "source_hidden": true
    }
   },
   "source": [
    "## 1.15 Montecarlo Estimation, Arbol\n",
    "## En una funcion"
   ]
  },
  {
   "attachments": {},
   "cell_type": "markdown",
   "metadata": {},
   "source": [
    "El objetivo es implementar con un for loop la estimacion montecarlo, que promedia las ganancias"
   ]
  },
  {
   "cell_type": "code",
   "execution_count": 1,
   "metadata": {
    "tags": [],
    "vscode": {
     "languageId": "r"
    }
   },
   "outputs": [
    {
     "name": "stderr",
     "output_type": "stream",
     "text": [
      "Loading required package: lattice\n",
      "Loading required package: ggplot2\n",
      "Registered S3 methods overwritten by 'ggplot2':\n",
      "  method         from \n",
      "  [.quosures     rlang\n",
      "  c.quosures     rlang\n",
      "  print.quosures rlang\n"
     ]
    },
    {
     "data": {
      "text/html": [
       "<table>\n",
       "<thead><tr><th scope=col>numero_de_cliente</th><th scope=col>foto_mes</th><th scope=col>active_quarter</th><th scope=col>cliente_vip</th><th scope=col>internet</th><th scope=col>cliente_edad</th><th scope=col>cliente_antiguedad</th><th scope=col>mrentabilidad</th><th scope=col>mrentabilidad_annual</th><th scope=col>mcomisiones</th><th scope=col>...</th><th scope=col>Visa_fultimo_cierre</th><th scope=col>Visa_mpagado</th><th scope=col>Visa_mpagospesos</th><th scope=col>Visa_mpagosdolares</th><th scope=col>Visa_fechaalta</th><th scope=col>Visa_mconsumototal</th><th scope=col>Visa_cconsumos</th><th scope=col>Visa_cadelantosefectivo</th><th scope=col>Visa_mpagominimo</th><th scope=col>clase_ternaria</th></tr></thead>\n",
       "<tbody>\n",
       "\t<tr><td>29183733 </td><td>202107   </td><td>1        </td><td>0        </td><td>0        </td><td>46       </td><td> 99      </td><td>2016.19  </td><td>32146.69 </td><td>1099.10  </td><td>...      </td><td> 3       </td><td>    0.00 </td><td>-27151.97</td><td>0        </td><td>2995     </td><td>10011.78 </td><td> 6       </td><td>0        </td><td> 2498.49 </td><td>CONTINUA </td></tr>\n",
       "\t<tr><td>29184468 </td><td>202107   </td><td>1        </td><td>0        </td><td>0        </td><td>42       </td><td>284      </td><td>1633.70  </td><td>13781.99 </td><td> 602.61  </td><td>...      </td><td>10       </td><td>    0.00 </td><td>-19268.21</td><td>0        </td><td>5722     </td><td>15138.18 </td><td> 9       </td><td>0        </td><td> 3178.83 </td><td>CONTINUA </td></tr>\n",
       "\t<tr><td>29185245 </td><td>202107   </td><td>1        </td><td>0        </td><td>0        </td><td>55       </td><td> 23      </td><td>3759.73  </td><td>24296.95 </td><td>2829.38  </td><td>...      </td><td> 3       </td><td>    0.00 </td><td> -8211.00</td><td>0        </td><td> 758     </td><td>58080.27 </td><td>10       </td><td>0        </td><td>26240.01 </td><td>CONTINUA </td></tr>\n",
       "\t<tr><td>29186441 </td><td>202107   </td><td>1        </td><td>0        </td><td>0        </td><td>62       </td><td>296      </td><td>2693.26  </td><td>75390.56 </td><td>2493.68  </td><td>...      </td><td>24       </td><td>41585.05 </td><td>-42723.62</td><td>0        </td><td>8097     </td><td>26541.92 </td><td> 8       </td><td>0        </td><td> 1782.96 </td><td>CONTINUA </td></tr>\n",
       "\t<tr><td>29186475 </td><td>202107   </td><td>1        </td><td>0        </td><td>0        </td><td>66       </td><td>326      </td><td>4567.63  </td><td>56305.98 </td><td>3690.64  </td><td>...      </td><td> 3       </td><td>    0.00 </td><td>-51675.11</td><td>0        </td><td>2139     </td><td>50304.17 </td><td>16       </td><td>0        </td><td> 3577.65 </td><td>CONTINUA </td></tr>\n",
       "</tbody>\n",
       "</table>\n"
      ],
      "text/latex": [
       "\\begin{tabular}{r|lllllllllllllllllllllllllllllllllllllllllllllllllllllllllllllllllllllllllllllllllllllllllllllllllllllllllllllllllllllllllllllllllllllllllllllllllllllllllll}\n",
       " numero\\_de\\_cliente & foto\\_mes & active\\_quarter & cliente\\_vip & internet & cliente\\_edad & cliente\\_antiguedad & mrentabilidad & mrentabilidad\\_annual & mcomisiones & ... & Visa\\_fultimo\\_cierre & Visa\\_mpagado & Visa\\_mpagospesos & Visa\\_mpagosdolares & Visa\\_fechaalta & Visa\\_mconsumototal & Visa\\_cconsumos & Visa\\_cadelantosefectivo & Visa\\_mpagominimo & clase\\_ternaria\\\\\n",
       "\\hline\n",
       "\t 29183733  & 202107    & 1         & 0         & 0         & 46        &  99       & 2016.19   & 32146.69  & 1099.10   & ...       &  3        &     0.00  & -27151.97 & 0         & 2995      & 10011.78  &  6        & 0         &  2498.49  & CONTINUA \\\\\n",
       "\t 29184468  & 202107    & 1         & 0         & 0         & 42        & 284       & 1633.70   & 13781.99  &  602.61   & ...       & 10        &     0.00  & -19268.21 & 0         & 5722      & 15138.18  &  9        & 0         &  3178.83  & CONTINUA \\\\\n",
       "\t 29185245  & 202107    & 1         & 0         & 0         & 55        &  23       & 3759.73   & 24296.95  & 2829.38   & ...       &  3        &     0.00  &  -8211.00 & 0         &  758      & 58080.27  & 10        & 0         & 26240.01  & CONTINUA \\\\\n",
       "\t 29186441  & 202107    & 1         & 0         & 0         & 62        & 296       & 2693.26   & 75390.56  & 2493.68   & ...       & 24        & 41585.05  & -42723.62 & 0         & 8097      & 26541.92  &  8        & 0         &  1782.96  & CONTINUA \\\\\n",
       "\t 29186475  & 202107    & 1         & 0         & 0         & 66        & 326       & 4567.63   & 56305.98  & 3690.64   & ...       &  3        &     0.00  & -51675.11 & 0         & 2139      & 50304.17  & 16        & 0         &  3577.65  & CONTINUA \\\\\n",
       "\\end{tabular}\n"
      ],
      "text/markdown": [
       "\n",
       "| numero_de_cliente | foto_mes | active_quarter | cliente_vip | internet | cliente_edad | cliente_antiguedad | mrentabilidad | mrentabilidad_annual | mcomisiones | ... | Visa_fultimo_cierre | Visa_mpagado | Visa_mpagospesos | Visa_mpagosdolares | Visa_fechaalta | Visa_mconsumototal | Visa_cconsumos | Visa_cadelantosefectivo | Visa_mpagominimo | clase_ternaria |\n",
       "|---|---|---|---|---|---|---|---|---|---|---|---|---|---|---|---|---|---|---|---|---|\n",
       "| 29183733  | 202107    | 1         | 0         | 0         | 46        |  99       | 2016.19   | 32146.69  | 1099.10   | ...       |  3        |     0.00  | -27151.97 | 0         | 2995      | 10011.78  |  6        | 0         |  2498.49  | CONTINUA  |\n",
       "| 29184468  | 202107    | 1         | 0         | 0         | 42        | 284       | 1633.70   | 13781.99  |  602.61   | ...       | 10        |     0.00  | -19268.21 | 0         | 5722      | 15138.18  |  9        | 0         |  3178.83  | CONTINUA  |\n",
       "| 29185245  | 202107    | 1         | 0         | 0         | 55        |  23       | 3759.73   | 24296.95  | 2829.38   | ...       |  3        |     0.00  |  -8211.00 | 0         |  758      | 58080.27  | 10        | 0         | 26240.01  | CONTINUA  |\n",
       "| 29186441  | 202107    | 1         | 0         | 0         | 62        | 296       | 2693.26   | 75390.56  | 2493.68   | ...       | 24        | 41585.05  | -42723.62 | 0         | 8097      | 26541.92  |  8        | 0         |  1782.96  | CONTINUA  |\n",
       "| 29186475  | 202107    | 1         | 0         | 0         | 66        | 326       | 4567.63   | 56305.98  | 3690.64   | ...       |  3        |     0.00  | -51675.11 | 0         | 2139      | 50304.17  | 16        | 0         |  3577.65  | CONTINUA  |\n",
       "\n"
      ],
      "text/plain": [
       "  numero_de_cliente foto_mes active_quarter cliente_vip internet cliente_edad\n",
       "1 29183733          202107   1              0           0        46          \n",
       "2 29184468          202107   1              0           0        42          \n",
       "3 29185245          202107   1              0           0        55          \n",
       "4 29186441          202107   1              0           0        62          \n",
       "5 29186475          202107   1              0           0        66          \n",
       "  cliente_antiguedad mrentabilidad mrentabilidad_annual mcomisiones ...\n",
       "1  99                2016.19       32146.69             1099.10     ...\n",
       "2 284                1633.70       13781.99              602.61     ...\n",
       "3  23                3759.73       24296.95             2829.38     ...\n",
       "4 296                2693.26       75390.56             2493.68     ...\n",
       "5 326                4567.63       56305.98             3690.64     ...\n",
       "  Visa_fultimo_cierre Visa_mpagado Visa_mpagospesos Visa_mpagosdolares\n",
       "1  3                      0.00     -27151.97        0                 \n",
       "2 10                      0.00     -19268.21        0                 \n",
       "3  3                      0.00      -8211.00        0                 \n",
       "4 24                  41585.05     -42723.62        0                 \n",
       "5  3                      0.00     -51675.11        0                 \n",
       "  Visa_fechaalta Visa_mconsumototal Visa_cconsumos Visa_cadelantosefectivo\n",
       "1 2995           10011.78            6             0                      \n",
       "2 5722           15138.18            9             0                      \n",
       "3  758           58080.27           10             0                      \n",
       "4 8097           26541.92            8             0                      \n",
       "5 2139           50304.17           16             0                      \n",
       "  Visa_mpagominimo clase_ternaria\n",
       "1  2498.49         CONTINUA      \n",
       "2  3178.83         CONTINUA      \n",
       "3 26240.01         CONTINUA      \n",
       "4  1782.96         CONTINUA      \n",
       "5  3577.65         CONTINUA      "
      ]
     },
     "metadata": {},
     "output_type": "display_data"
    }
   ],
   "source": [
    "library(\"data.table\") # cargo la libreria  data.table\n",
    "library(\"rpart\") # cargo la libreria  rpart\n",
    "#library(\"rpart.plot\")\n",
    "library(\"caret\")\n",
    "\n",
    "#options(repr.plot.width = 20, repr.plot.height = 10)\n",
    "#setwd(\"~/buckets/b1/\")\n",
    "dataset <- fread(\"D:\\\\MAESTRIA AUSTRAL DATA SCIENCE\\\\MATERIAS\\\\2doSem\\\\Laboratorio 1\\\\datasets\\\\dataset_pequeno.csv\")\n",
    "head(dataset, 5)"
   ]
  },
  {
   "attachments": {},
   "cell_type": "markdown",
   "metadata": {},
   "source": [
    "La funcion que definimos en el notebook anterior"
   ]
  },
  {
   "cell_type": "code",
   "execution_count": 2,
   "metadata": {
    "tags": [],
    "vscode": {
     "languageId": "r"
    }
   },
   "outputs": [],
   "source": [
    "GananciaArbol <- function(semilla, data, x, train = 0.70) {\n",
    "  # establezco la semilla\n",
    "  set.seed(semilla)\n",
    "  train_rows <- createDataPartition(dataset$clase_ternaria, p = 0.70, list = FALSE)\n",
    "\n",
    "  modelo <- rpart::rpart(\n",
    "    formula = \"clase_ternaria ~ .\",\n",
    "    data = data[train_rows], # los datos de training\n",
    "    xval = 0,\n",
    "    control = x\n",
    "  )\n",
    "\n",
    "  # Aplico el modelo a los datos de testing\n",
    "  prediccion <- predict(modelo, data[-train_rows], type = \"prob\")\n",
    "\n",
    "  prob_baja2 <- prediccion[, \"BAJA+2\"]\n",
    "  ganancia_testing <- data[-train_rows, sum((prob_baja2 > 0.025) * ifelse(clase_ternaria == \"BAJA+2\", 117000, -3000))]\n",
    "\n",
    "  # normalizo la ganancia\n",
    "  ganancia_testing_normalizada <- ganancia_testing / 0.3\n",
    "\n",
    "  return(ganancia_testing_normalizada)\n",
    "}\n"
   ]
  },
  {
   "cell_type": "code",
   "execution_count": 3,
   "metadata": {
    "tags": [],
    "vscode": {
     "languageId": "r"
    }
   },
   "outputs": [],
   "source": [
    "ArbolMontecarlo <- function(semillas, data, x, train = 0.70) {\n",
    "  vector_ganancias <- c() # vector donde voy a ir acumulando las ganancias\n",
    "  for (semilla in ksemillas)\n",
    "  {\n",
    "    ganancia <- GananciaArbol(semilla, dataset, x = x, train = 0.70)\n",
    "    vector_ganancias <- c(vector_ganancias, ganancia)\n",
    "  }\n",
    "\n",
    "  return(mean(vector_ganancias))\n",
    "}\n"
   ]
  },
  {
   "cell_type": "code",
   "execution_count": 5,
   "metadata": {
    "tags": [],
    "vscode": {
     "languageId": "r"
    }
   },
   "outputs": [],
   "source": [
    "# dataset <- fread(\"./datasets/dataset_pequeno.csv\") # cargo el dataset #cargo el dataset\n",
    "dataset <- dataset[foto_mes == 202107] # me quedo solo con el periodo 202107\n"
   ]
  },
  {
   "cell_type": "code",
   "execution_count": 6,
   "metadata": {
    "tags": [],
    "vscode": {
     "languageId": "r"
    }
   },
   "outputs": [],
   "source": [
    "ksemillas <- c(100297, 422578, 492641, 301039, 723721) # reemplazar por las propias semillas\n"
   ]
  },
  {
   "cell_type": "code",
   "execution_count": 7,
   "metadata": {
    "tags": [],
    "vscode": {
     "languageId": "r"
    }
   },
   "outputs": [],
   "source": [
    "# defino el primer set de hiperparametros\n",
    "param1 <- list(\n",
    "    \"cp\" = -0.5,\n",
    "    \"minsplit\" = 900,\n",
    "    \"minbucket\" = 440,\n",
    "    \"maxdepth\" = 5\n",
    ")\n"
   ]
  },
  {
   "attachments": {},
   "cell_type": "markdown",
   "metadata": {},
   "source": [
    "llamo a la fucion  ArbolMontecarlo con las 5 semillas de ksemillas"
   ]
  },
  {
   "cell_type": "code",
   "execution_count": 13,
   "metadata": {},
   "outputs": [],
   "source": [
    "train_p <- 0.7"
   ]
  },
  {
   "cell_type": "code",
   "execution_count": 14,
   "metadata": {
    "tags": [],
    "vscode": {
     "languageId": "r"
    }
   },
   "outputs": [],
   "source": [
    "ganancia_montecarlo1 <- ArbolMontecarlo(ksemillas, dataset, x = param1, train = train_p)\n"
   ]
  },
  {
   "cell_type": "code",
   "execution_count": 15,
   "metadata": {
    "tags": [],
    "vscode": {
     "languageId": "r"
    }
   },
   "outputs": [],
   "source": [
    "# el SEGUNDO set de hiperparametros\n",
    "param2 <- list(\n",
    "    \"cp\" = -0.5,\n",
    "    \"minsplit\" = 1340,\n",
    "    \"minbucket\" = 600,\n",
    "    \"maxdepth\" = 6\n",
    ")\n"
   ]
  },
  {
   "cell_type": "code",
   "execution_count": 16,
   "metadata": {
    "tags": [],
    "vscode": {
     "languageId": "r"
    }
   },
   "outputs": [],
   "source": [
    "ganancia_montecarlo2 <- ArbolMontecarlo(ksemillas, dataset, x = param2, train = 0.70)\n"
   ]
  },
  {
   "cell_type": "code",
   "execution_count": 17,
   "metadata": {
    "tags": [],
    "vscode": {
     "languageId": "r"
    }
   },
   "outputs": [
    {
     "data": {
      "text/html": [
       "48768000"
      ],
      "text/latex": [
       "48768000"
      ],
      "text/markdown": [
       "48768000"
      ],
      "text/plain": [
       "[1] 48768000"
      ]
     },
     "metadata": {},
     "output_type": "display_data"
    },
    {
     "data": {
      "text/html": [
       "48602000"
      ],
      "text/latex": [
       "48602000"
      ],
      "text/markdown": [
       "48602000"
      ],
      "text/plain": [
       "[1] 48602000"
      ]
     },
     "metadata": {},
     "output_type": "display_data"
    }
   ],
   "source": [
    "ganancia_montecarlo1\n",
    "ganancia_montecarlo2\n"
   ]
  },
  {
   "attachments": {},
   "cell_type": "markdown",
   "metadata": {},
   "source": [
    "Segun este experimento, el primer juego de hiperparametros es mejor que el primero\n",
    "<br>\n",
    "¿Se cumplirá esto subiendo a Kaggle?\n",
    "<br>\n",
    "¿Qué sucede si en Kaggle funciona bastante mejor el segundo set de hiperparámetros?"
   ]
  },
  {
   "cell_type": "markdown",
   "metadata": {},
   "source": [
    "Se cumplirá esto subiendo a Kaggle? No necesariamente.\n",
    "¿Qué sucede si en Kaggle funciona bastante mejor el segundo set de hiperparámetros? podria revisar como mis hiperparametros se estan comportando con distintos set de entren y prueba."
   ]
  },
  {
   "cell_type": "code",
   "execution_count": null,
   "metadata": {},
   "outputs": [],
   "source": []
  }
 ],
 "metadata": {
  "kernelspec": {
   "display_name": "R",
   "language": "R",
   "name": "ir"
  },
  "language_info": {
   "codemirror_mode": "r",
   "file_extension": ".r",
   "mimetype": "text/x-r-source",
   "name": "R",
   "pygments_lexer": "r",
   "version": "3.6.1"
  }
 },
 "nbformat": 4,
 "nbformat_minor": 4
}
